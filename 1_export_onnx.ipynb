{
 "cells": [
  {
   "cell_type": "code",
   "execution_count": null,
   "id": "d78386b3-4819-44ae-adc6-b3aa0270e8ff",
   "metadata": {
    "tags": []
   },
   "outputs": [],
   "source": [
    "%load_ext autoreload\n",
    "%autoreload 2"
   ]
  },
  {
   "cell_type": "code",
   "execution_count": null,
   "id": "aca6f898-24ad-40ef-ab9c-6c7a27fd77b5",
   "metadata": {
    "tags": [
     "parameters"
    ]
   },
   "outputs": [],
   "source": [
    "#2. specify parameters\n",
    "pipeline_params={\n",
    "}\n",
    "step_params={\n",
    "}\n",
    "substep_params={   \n",
    "}"
   ]
  },
  {
   "cell_type": "code",
   "execution_count": null,
   "id": "ad1a9ad9-b1f8-4348-bb41-e10784b212dd",
   "metadata": {
    "tags": []
   },
   "outputs": [],
   "source": [
    "#3 define substep interface\n",
    "from sinara.substep import NotebookSubstep, default_param_values, ENV_NAME, PIPELINE_NAME, ZONE_NAME, STEP_NAME, RUN_ID, ENTITY_NAME, ENTITY_PATH, SUBSTEP_NAME\n",
    "\n",
    "substep = NotebookSubstep(pipeline_params, step_params, substep_params, **default_param_values(\"params/step_params.json\"))\n",
    "\n",
    "substep.interface(\n",
    "    \n",
    "    tmp_inputs =\n",
    "    [\n",
    "        { ENTITY_NAME: \"cache_data\" }\n",
    "    ]\n",
    ")\n",
    "\n",
    "substep.print_interface_info()\n",
    "\n",
    "substep.exit_in_visualize_mode()"
   ]
  },
  {
   "cell_type": "markdown",
   "id": "48e8b8d2-c645-4d20-bc06-bd6a8a84d15c",
   "metadata": {},
   "source": [
    "![interface 1_export_onnx_interface.drawio](./imgs/1_export_onnx_interface.drawio.png)"
   ]
  },
  {
   "cell_type": "code",
   "execution_count": null,
   "id": "45dd56c2-76a2-4b42-97dc-fbec0f5b6f2b",
   "metadata": {
    "tags": []
   },
   "outputs": [],
   "source": [
    "#4 get substep.interface\n",
    "tmp_inputs = substep.tmp_inputs()\n",
    "\n",
    "print(f\"{tmp_inputs.cache_data=}\")"
   ]
  },
  {
   "cell_type": "code",
   "execution_count": null,
   "id": "92c79bfa-fee8-4b3a-9410-6f08afb6da3b",
   "metadata": {
    "tags": []
   },
   "outputs": [],
   "source": [
    "#5 run spark\n",
    "from sinara.spark import SinaraSpark\n",
    "\n",
    "spark = SinaraSpark.run_session(0)\n",
    "SinaraSpark.ui_url()"
   ]
  },
  {
   "cell_type": "markdown",
   "id": "27eed825-8bf6-452f-8cc7-6a218ef7ba04",
   "metadata": {},
   "source": [
    "### Reading basic parameters from the config"
   ]
  },
  {
   "cell_type": "code",
   "execution_count": null,
   "id": "d53d75af-2225-4976-8e77-a935985d783f",
   "metadata": {
    "tags": []
   },
   "outputs": [],
   "source": [
    "# GET config params\n",
    "import json\n",
    "import os\n",
    "import os.path as osp\n",
    "\n",
    "config_fn = osp.join(tmp_inputs.cache_data, 'config.json')\n",
    "\n",
    "with open(config_fn) as f_id:\n",
    "    CONFIG = json.load(f_id)\n",
    "\n",
    "MODEL_NAME = CONFIG[\"train_config_parameters\"][\"MODEL_NAME\"]\n",
    "WORK_DIR = CONFIG['work_dir'] \n",
    "ONNX_DIR = CONFIG[\"onnx_dir\"]\n",
    "CONFIG_DEPLOY = CONFIG[\"config_deploy\"]\n",
    "DEVICE = CONFIG[\"device\"]\n",
    "CONFIG_MODEL = CONFIG[\"config_model\"]\n",
    "TORCH_MODEL = CONFIG[\"torch_model\"]\n",
    "ONNX_MODEL = CONFIG[\"onnx_model\"]\n",
    "TYPE_EXPORT = CONFIG[\"type_export\"]\n",
    "test_image_path = CONFIG[\"test_image_path\"]\n",
    "\n",
    "TYPE_EXPORT"
   ]
  },
  {
   "cell_type": "code",
   "execution_count": null,
   "id": "78f21a6d-2651-4172-92eb-31d1d275cc82",
   "metadata": {
    "tags": []
   },
   "outputs": [],
   "source": [
    "from mmdet.datasets import PIPELINES\n",
    "\n",
    "try:\n",
    "    @PIPELINES.register_module()\n",
    "    class DataAsList:\n",
    "        def __call__(self, results):\n",
    "            aug_data_dict = {key: [val] for key, val in results.items()}\n",
    "            return aug_data_dict\n",
    "except Exception as e:\n",
    "    print(e)"
   ]
  },
  {
   "cell_type": "markdown",
   "id": "118b77b0-7c89-405d-b8c0-31d3da3eda95",
   "metadata": {},
   "source": [
    "### Exporting a model to ONNX format\n",
    "TYPE_EXPORT == \"mmdeploy_export\" - export the model to onnx format via mmdeploy (post-processing is added to the model graph itself)\n",
    "TYPE_EXPORT == \"torch_export\" - export the model to onnx format via torch.export (post-processing is written separately)"
   ]
  },
  {
   "cell_type": "code",
   "execution_count": null,
   "id": "63692418-68d5-4dd2-9851-b8bcc1ebdc03",
   "metadata": {
    "tags": []
   },
   "outputs": [],
   "source": [
    "if TYPE_EXPORT == \"mmdeploy_export\":\n",
    "    from mmdeploy.apis import torch2onnx\n",
    "    import numpy as np\n",
    "    output_file = os.path.join(ONNX_DIR, ONNX_MODEL)\n",
    "\n",
    "    torch2onnx(img=np.zeros((640,640,3)),\n",
    "               work_dir=ONNX_DIR,\n",
    "               save_file=ONNX_MODEL,\n",
    "               deploy_cfg=CONFIG_DEPLOY,\n",
    "               model_cfg=CONFIG_MODEL,\n",
    "               model_checkpoint=TORCH_MODEL,\n",
    "               device=DEVICE)"
   ]
  },
  {
   "cell_type": "code",
   "execution_count": null,
   "id": "75a39d00-4f8d-4989-b834-2e6bc1a8b811",
   "metadata": {
    "tags": []
   },
   "outputs": [],
   "source": [
    "if TYPE_EXPORT == \"torch_export\":\n",
    "    from mmcv import Config, ConfigDict\n",
    "    from mmdet.apis import init_detector, inference_detector, show_result_pyplot\n",
    "    from mmdet.core.export import preprocess_example_input\n",
    "    import torch\n",
    "    \n",
    "    cfg_deploy = Config.fromfile(CONFIG_DEPLOY)\n",
    "    cfg_model = Config.fromfile(CONFIG_MODEL)\n",
    "    \n",
    "    model = init_detector(CONFIG_MODEL, \n",
    "                          TORCH_MODEL, \n",
    "                          device=DEVICE)\n",
    "    \n",
    "    input_names = cfg_deploy.onnx_config.input_names\n",
    "    opset_version = cfg_deploy.onnx_config.opset_version\n",
    "    dynamic_axes = cfg_deploy.onnx_config.dynamic_axes\n",
    "    # output_names = ['dets', 'labels']\n",
    "    output_file = os.path.join(ONNX_DIR, ONNX_MODEL)\n",
    "\n",
    "    from mmcv.parallel import collate\n",
    "    from mmdet.datasets.pipelines import Compose\n",
    "\n",
    "    test_pipeline = Compose(cfg_model.data.test.pipeline)\n",
    "    datas = []\n",
    "    data = dict(img_info=dict(filename=test_image_path), img_prefix=None)\n",
    "    data = test_pipeline(data)\n",
    "    datas.append(data)\n",
    "\n",
    "    data = collate(datas, samples_per_gpu=1)\n",
    "    data['img_metas'] = [img_metas.data[0] for img_metas in data['img_metas']]\n",
    "    data['imgs'] = data.pop('img')\n",
    "    data['imgs'] = [img.data[0].to(DEVICE) for img in data['imgs']]\n",
    "    \n",
    "    model.forward = model.forward_dummy\n",
    "\n",
    "    torch.onnx.export(\n",
    "            model,\n",
    "            data[\"imgs\"][0],\n",
    "            output_file,\n",
    "            input_names=input_names,\n",
    "            # output_names=output_names,\n",
    "            export_params=True,\n",
    "            keep_initializers_as_inputs=False,\n",
    "            training= torch.onnx.TrainingMode.EVAL,\n",
    "            do_constant_folding=True,\n",
    "            verbose=False,\n",
    "            opset_version=opset_version,\n",
    "            dynamic_axes=dynamic_axes)\n",
    "\n",
    "    print(output_file)"
   ]
  },
  {
   "cell_type": "code",
   "execution_count": null,
   "id": "8157c0eb-b55f-4413-9c38-cbe41590993c",
   "metadata": {
    "tags": []
   },
   "outputs": [],
   "source": [
    "CONFIG['out_onnx_model'] = output_file\n",
    "\n",
    "with open(config_fn, 'w') as f_id:\n",
    "    json.dump(CONFIG, f_id, indent=4)"
   ]
  },
  {
   "cell_type": "code",
   "execution_count": null,
   "id": "f426cb93-90ef-4f0d-a95f-e5f4d42e3815",
   "metadata": {
    "tags": []
   },
   "outputs": [],
   "source": [
    "#stop spark\n",
    "SinaraSpark.stop_session()"
   ]
  },
  {
   "cell_type": "code",
   "execution_count": null,
   "id": "7b82d5d7-ad34-4c37-8968-879a0dc21a34",
   "metadata": {},
   "outputs": [],
   "source": []
  }
 ],
 "metadata": {
  "kernelspec": {
   "display_name": "cv",
   "language": "python",
   "name": "cv"
  },
  "language_info": {
   "codemirror_mode": {
    "name": "ipython",
    "version": 3
   },
   "file_extension": ".py",
   "mimetype": "text/x-python",
   "name": "python",
   "nbconvert_exporter": "python",
   "pygments_lexer": "ipython3",
   "version": "3.9.10"
  }
 },
 "nbformat": 4,
 "nbformat_minor": 5
}
