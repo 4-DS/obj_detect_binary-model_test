{
 "cells": [
  {
   "cell_type": "code",
   "execution_count": null,
   "id": "b8160868-ef62-4274-a677-007c14cce562",
   "metadata": {
    "tags": []
   },
   "outputs": [],
   "source": [
    "#1. import dsml base module\n",
    "from dsml_s8e.module import DSMLModule\n",
    "import json"
   ]
  },
  {
   "cell_type": "code",
   "execution_count": null,
   "id": "8ae10ffa-034e-4d84-8b99-9482745ccf41",
   "metadata": {
    "tags": [
     "parameters"
    ]
   },
   "outputs": [],
   "source": [
    "#2. specify parameters\n",
    "# Parameters\n",
    "run_parameters = {\n",
    "    \"env_name\": \"user\",\n",
    "    \"product_name\": \"cv_example\",\n",
    "    \"stand_name\": \"YOLOX_mmdet\",\n",
    "    \"docker_image\": \"cv-no-gpu:latest\",\n",
    "    \"conda_env\": \"gpu\",\n",
    "    \"business_report_repo\": \"\",\n",
    "    \"infra\": {},\n",
    "    \"comment\": {},\n",
    "}\n",
    "\n",
    "parameters = {}"
   ]
  },
  {
   "cell_type": "code",
   "execution_count": null,
   "id": "1b87bc5b-58b8-4618-9391-48d04ad76648",
   "metadata": {
    "tags": []
   },
   "outputs": [],
   "source": [
    "import os\n",
    "import os.path as osp\n",
    "\n",
    "module = DSMLModule(parameters, run_parameters)\n",
    "\n",
    "cache_urls = module.make_cache_urls(\n",
    "    new_cache_entity_names=[],\n",
    "    last_cache_entity_names=[\"cache_data\"]\n",
    ")\n",
    "\n",
    "module.print_urls()"
   ]
  },
  {
   "cell_type": "code",
   "execution_count": null,
   "id": "59df46a8-9496-490d-87ba-91ae201d985a",
   "metadata": {
    "tags": []
   },
   "outputs": [],
   "source": [
    "# Get parameters from config of model \n",
    "import json\n",
    "\n",
    "config_fn = os.path.join(cache_urls.cache_data, 'config.json')\n",
    "\n",
    "with open(config_fn) as f_id:\n",
    "    CONFIG = json.load(f_id)\n",
    "\n",
    "MODEL_NAME = CONFIG[\"train_config_parameters\"][\"MODEL_NAME\"]\n",
    "WORK_DIR = CONFIG['work_dir'] \n",
    "ONNX_DIR = CONFIG[\"onnx_dir\"]\n",
    "CONFIG_DEPLOY = CONFIG[\"config_deploy\"]\n",
    "DEVICE = CONFIG[\"device\"]\n",
    "CONFIG_MODEL = CONFIG[\"config_model\"]\n",
    "TORCH_MODEL = CONFIG[\"torch_model\"]\n",
    "ONNX_MODEL = CONFIG[\"onnx_model\"]"
   ]
  },
  {
   "cell_type": "code",
   "execution_count": null,
   "id": "677fabb8-3903-495d-bb31-e0beb2de0a95",
   "metadata": {
    "tags": []
   },
   "outputs": [],
   "source": [
    "# TEST IMAGE\n",
    "test_image_path = osp.join(cache_urls.cache_data, \"test.png\")\n",
    "assert osp.exists(test_image_path)"
   ]
  },
  {
   "cell_type": "code",
   "execution_count": null,
   "id": "8c3887ab-4e87-4ed2-af84-091b927f1632",
   "metadata": {
    "tags": []
   },
   "outputs": [],
   "source": [
    "from mmdet.datasets import PIPELINES\n",
    "\n",
    "@PIPELINES.register_module()\n",
    "class DataAsList:\n",
    "    def __call__(self, results):\n",
    "        aug_data_dict = {key: [val] for key, val in results.items()}\n",
    "        return aug_data_dict"
   ]
  },
  {
   "cell_type": "markdown",
   "id": "03aeac3e-c761-4064-92b0-db3c69db83d6",
   "metadata": {},
   "source": [
    "## Конвертирование модели YOLOX через torch.export    \n",
    "### препроцессинг и постпроцессинг отдельными модулями"
   ]
  },
  {
   "cell_type": "code",
   "execution_count": null,
   "id": "62288c13-0b42-4700-9f75-b3877641fb23",
   "metadata": {
    "tags": []
   },
   "outputs": [],
   "source": [
    "from mmcv import Config, ConfigDict\n",
    "from mmdet.apis import init_detector, inference_detector, show_result_pyplot\n",
    "from mmdet.core.export import preprocess_example_input\n",
    "import torch"
   ]
  },
  {
   "cell_type": "markdown",
   "id": "ca3121a9-72a2-43e6-ba90-36be0015243d",
   "metadata": {},
   "source": [
    "Чтение конфигов модели и деплоя, через библиотеку mmcv"
   ]
  },
  {
   "cell_type": "code",
   "execution_count": null,
   "id": "c6b151bf-a6fc-41a9-99a9-f362072832b7",
   "metadata": {
    "tags": []
   },
   "outputs": [],
   "source": [
    "cfg_deploy = Config.fromfile(CONFIG_DEPLOY)\n",
    "cfg_model = Config.fromfile(CONFIG_MODEL)"
   ]
  },
  {
   "cell_type": "markdown",
   "id": "298a86f0-aac8-4920-ab78-5aa7702fdffa",
   "metadata": {
    "tags": []
   },
   "source": [
    "Инициализация torch модели через api библиотеки mmdetection"
   ]
  },
  {
   "cell_type": "code",
   "execution_count": null,
   "id": "91f0cc9c-bcec-4087-a41d-5f908e945846",
   "metadata": {
    "scrolled": true,
    "tags": []
   },
   "outputs": [],
   "source": [
    "model = init_detector(CONFIG_MODEL, \n",
    "                      TORCH_MODEL, \n",
    "                      device=DEVICE)"
   ]
  },
  {
   "cell_type": "markdown",
   "id": "38bf24a9-0453-45be-868f-5956491c4141",
   "metadata": {},
   "source": [
    "Получение основных параметров для экспорта модели в формат onnx.    \n",
    "Чтение тестового изображения и препроцессинг изображения для подготовкм инференса модели"
   ]
  },
  {
   "cell_type": "code",
   "execution_count": null,
   "id": "79537fe6-7d3d-43b1-80d9-e9b60d55a7bd",
   "metadata": {
    "tags": []
   },
   "outputs": [],
   "source": [
    "input_names = cfg_deploy.onnx_config.input_names\n",
    "opset_version = cfg_deploy.onnx_config.opset_version\n",
    "dynamic_axes = cfg_deploy.onnx_config.dynamic_axes\n",
    "# output_names = ['dets', 'labels']\n",
    "output_file = os.path.join(ONNX_DIR, ONNX_MODEL)\n",
    "\n",
    "from mmcv.parallel import collate\n",
    "from mmdet.datasets.pipelines import Compose\n",
    "\n",
    "test_pipeline = Compose(cfg_model.data.test.pipeline)\n",
    "datas = []\n",
    "data = dict(img_info=dict(filename=test_image_path), img_prefix=None)\n",
    "data = test_pipeline(data)\n",
    "datas.append(data)\n",
    "\n",
    "data = collate(datas, samples_per_gpu=1)\n",
    "data['img_metas'] = [img_metas.data[0] for img_metas in data['img_metas']]\n",
    "data['imgs'] = data.pop('img')\n",
    "data['imgs'] = [img.data[0].to(DEVICE) for img in data['imgs']]"
   ]
  },
  {
   "cell_type": "markdown",
   "id": "5005f74f-7f16-4da6-b3a5-3a1a052f8f44",
   "metadata": {
    "tags": []
   },
   "source": [
    "Конвертирование torch модели в формат ONNX, через torch.onnx.export   \n",
    "более подробно с параметрами экспорта в ONNX можно ознакомится в документации torch: https://pytorch.org/docs/1.13/onnx.html#contributing-developing"
   ]
  },
  {
   "cell_type": "code",
   "execution_count": null,
   "id": "91505fc5-d7e4-4cd0-a873-0542d2e366cb",
   "metadata": {
    "tags": []
   },
   "outputs": [],
   "source": [
    "model.forward = model.forward_dummy\n",
    "\n",
    "torch.onnx.export(\n",
    "        model,\n",
    "        data[\"imgs\"][0],\n",
    "        output_file,\n",
    "        input_names=input_names,\n",
    "        # output_names=output_names,\n",
    "        export_params=True,\n",
    "        keep_initializers_as_inputs=False,\n",
    "        training= torch.onnx.TrainingMode.EVAL,\n",
    "        do_constant_folding=True,\n",
    "        verbose=False,\n",
    "        opset_version=opset_version,\n",
    "        dynamic_axes=dynamic_axes)\n",
    "\n",
    "print(output_file)"
   ]
  },
  {
   "cell_type": "markdown",
   "id": "4c2194a7-f128-43e1-9469-d87bc573f79c",
   "metadata": {
    "tags": []
   },
   "source": [
    "Загрузка модели ONNX и запуск ее в сессии, для последующего инференса.    \n",
    "Используется библиотека onnxruntime.\n",
    "Загрузка модели ONNX на device (CPU или CUDA) происходит через явное указание параметра providers  (CUDAExecutionProvider или CPUExecutionProvider).\n",
    "\n",
    "https://onnxruntime.ai/docs/api/python/api_summary.html"
   ]
  },
  {
   "cell_type": "code",
   "execution_count": null,
   "id": "b4937937-fefb-4b3f-80d0-8820eef09e16",
   "metadata": {
    "tags": []
   },
   "outputs": [],
   "source": [
    "import onnxruntime\n",
    "\n",
    "providers = ['CUDAExecutionProvider'] # or ['CPUExecutionProvider']\n",
    "ort_session = onnxruntime.InferenceSession(output_file, providers=['CUDAExecutionProvider'])\n",
    "input_names = [out.name for out in ort_session.get_inputs()]\n",
    "output_names = [out.name for out in ort_session.get_outputs()]\n",
    "\n",
    "print(f\"input_names: {input_names}\")\n",
    "print(f\"output_names: {output_names}\")"
   ]
  },
  {
   "cell_type": "markdown",
   "id": "0fe4f9b5-276e-41ac-9c3d-61d9b194fd35",
   "metadata": {},
   "source": [
    "Выполняем инференс torch модели на тестовом изображении. На выходе получаем обработанные bbox (после nms и др алгоритмов). Постпроцессинг скрыт по \"капотом\" библиотеки mmdetection"
   ]
  },
  {
   "cell_type": "code",
   "execution_count": null,
   "id": "8a9289d7-6c22-405d-8b93-f295a36d0a7d",
   "metadata": {
    "tags": []
   },
   "outputs": [],
   "source": [
    "model.forward = model.forward_test\n",
    "\n",
    "with torch.no_grad():\n",
    "    # results = model(img = data['img'][0].to(\"cuda\"))\n",
    "    results = model.forward(rescale=True, **data)\n",
    "\n",
    "print(f\"results of image {test_image_path}\")\n",
    "for id_cls, results_cls in enumerate(results[0]):\n",
    "    print(f\"class_id = {id_cls}, objects: {results_cls.shape}\")"
   ]
  },
  {
   "cell_type": "code",
   "execution_count": null,
   "id": "b944723c-a121-4cec-8b44-50ac84e53617",
   "metadata": {
    "tags": []
   },
   "outputs": [],
   "source": [
    "show_result_pyplot(model, test_image_path, results[0], score_thr=0.05)"
   ]
  },
  {
   "cell_type": "markdown",
   "id": "f9ec14e2-de6e-4670-9c34-23f078a045b3",
   "metadata": {
    "tags": []
   },
   "source": [
    "Выполняем инференс сконвертированной onnx модели на тетовом изображении"
   ]
  },
  {
   "cell_type": "code",
   "execution_count": null,
   "id": "adc8d227-723a-4680-8938-ac1885811204",
   "metadata": {
    "tags": []
   },
   "outputs": [],
   "source": [
    "np_input = data['imgs'][0].cpu().detach().numpy()\n",
    "# np_input = np.concatenate([np_input, np_input], axis=0)\n",
    "out_onnx = ort_session.run(output_names, {input_names[0]: np_input})\n",
    "[[output_names[out_id], out.shape] for out_id, out in enumerate(out_onnx)]"
   ]
  },
  {
   "cell_type": "markdown",
   "id": "102a9af4-651f-4462-be9d-d83873f8fec1",
   "metadata": {},
   "source": [
    "Как видно из данных полученных из инференса onnx модели - необходима постобработка этих данных.  "
   ]
  },
  {
   "cell_type": "markdown",
   "id": "99e403bb-7063-46d3-98a7-7f0c0a4f46e1",
   "metadata": {
    "tags": []
   },
   "source": [
    "### View graph onnx model on netron.app\n",
    "### https://netron.app/"
   ]
  },
  {
   "cell_type": "markdown",
   "id": "ce9ddb0f-5e50-4326-97cc-a4abecc20205",
   "metadata": {},
   "source": [
    "Как можно увидеть результатом инференса модели в формате onnx, сконвертированной без mmdeploy (без включения постпроцессинга в сам граф модели) - через torch.onnx.export - будет выход состоящий из 9 массив данных.    \n",
    "Необходимо создать постпроцссинга для преобразования этого выхода (9 массивов) в соответвии с инфересом моедли через фреймворк mmdetection   \n",
    "   \n",
    "```sh\n",
    "with torch.no_grad():   \n",
    "    results = model.forward(rescale=True, **data) \n",
    "```\n",
    "\n",
    "```out: class_id = 0, finded objects: (37, 5) ```"
   ]
  },
  {
   "cell_type": "markdown",
   "id": "abc75359-1604-4fbf-a725-13f87bbbb43c",
   "metadata": {
    "tags": []
   },
   "source": [
    "### Создание функционала постобработки на основе библиотеки mmdetection и mmcv"
   ]
  },
  {
   "cell_type": "markdown",
   "id": "87c96afe-7745-4322-8a6e-8c945bebc87a",
   "metadata": {},
   "source": [
    "##### Шаг 1.   \n",
    "С помощью библиотеки inspect (входящая в окружение python по умолчанию) выведем код используемый при инференсе модели mmdetection"
   ]
  },
  {
   "cell_type": "code",
   "execution_count": null,
   "id": "6ac634a8-8689-456f-a1fe-f07c6791d37e",
   "metadata": {
    "tags": []
   },
   "outputs": [],
   "source": [
    "import inspect\n",
    "\n",
    "def getsource(func):\n",
    "    print(inspect.getsourcefile(func))\n",
    "    print()\n",
    "    print(inspect.getsource(func))"
   ]
  },
  {
   "cell_type": "code",
   "execution_count": null,
   "id": "b751b953-7fb0-401b-a0b2-d625afdeee5a",
   "metadata": {
    "tags": []
   },
   "outputs": [],
   "source": [
    "getsource(model.forward)"
   ]
  },
  {
   "attachments": {
    "a05d507b-e5bc-4bfa-93ee-f6fa5a602842.png": {
     "image/png": "[encoded data removed]"
    }
   },
   "cell_type": "markdown",
   "id": "7cd5eb9a-8020-4259-8672-2eeb10187de0",
   "metadata": {},
   "source": [
    "В данном коде функции model.forward() видно что вызывается также функции model.simple_test() и model.aug_test()   \n",
    "при разных параметрах:   \n",
    "model.simple_test() - вызов при одном изображении   \n",
    "model.aug_test() - вызов при нескольких изображений  \n",
    "\n",
    "![step_1.drawio.png](attachment:a05d507b-e5bc-4bfa-93ee-f6fa5a602842.png)"
   ]
  },
  {
   "cell_type": "markdown",
   "id": "d15b59ef-5f52-40ee-90fb-3d85b1a805d1",
   "metadata": {},
   "source": [
    "##### Шаг 2.   \n",
    "Расмотрим код функций model.simple_test и model.aug_test"
   ]
  },
  {
   "cell_type": "code",
   "execution_count": null,
   "id": "f7d05650-89a6-4c45-8574-1c424edf2ed7",
   "metadata": {
    "scrolled": true,
    "tags": []
   },
   "outputs": [],
   "source": [
    "getsource(model.simple_test)\n",
    "print()\n",
    "getsource(model.aug_test)"
   ]
  },
  {
   "attachments": {
    "3c3cde72-257d-43ff-acca-4bf8090a2fd4.png": {
     "image/png": "[encoded data removed]"
    },
    "7edc7436-1221-4eca-9173-7113d66bf517.png": {
     "image/png": "[encoded data removed]"
    }
   },
   "cell_type": "markdown",
   "id": "5c2f614e-ebe8-44c2-bb86-4601d46b1f84",
   "metadata": {
    "tags": []
   },
   "source": [
    "В функции model.simple_test вызвываются следующие функции    \n",
    "model.extract_feat(), model.bbox_head.simple_test(), bbox2result \n",
    "\n",
    "![step_2_1.drawio.png](attachment:3c3cde72-257d-43ff-acca-4bf8090a2fd4.png)\n",
    "\n",
    "В функции model.aug_test вызвываются следующие функции    \n",
    "model.extract_feats(), model.bbox_head.aug_test(), bbox2result \n",
    "\n",
    "![step_2_2.drawio.png](attachment:7edc7436-1221-4eca-9173-7113d66bf517.png)\n"
   ]
  },
  {
   "cell_type": "markdown",
   "id": "77c269dc-05d9-4849-9f7a-aa963b4ff00a",
   "metadata": {},
   "source": [
    "Рассморим вывод функций model.extract_feat() и model.bbox_head.simple_test() на тестовом изображении.    "
   ]
  },
  {
   "cell_type": "code",
   "execution_count": null,
   "id": "d2779e21-c4e6-4779-a257-132490edb74e",
   "metadata": {
    "scrolled": true,
    "tags": []
   },
   "outputs": [],
   "source": [
    "feat = model.extract_feat(data['imgs'][0])\n",
    "print([x_feat.shape for x_feat in feat])\n",
    "\n",
    "model.bbox_head.simple_test(feat, data['img_metas'][0], rescale=True)[0]"
   ]
  },
  {
   "cell_type": "markdown",
   "id": "69e434cf-0b02-4937-b8d2-f2da25a364e5",
   "metadata": {
    "tags": []
   },
   "source": [
    "##### Шаг 3.   \n",
    "Расмотрим код функций model.bbox_head.simple_test"
   ]
  },
  {
   "cell_type": "code",
   "execution_count": null,
   "id": "920ac33d-6d81-4985-a088-20465e3b15ee",
   "metadata": {
    "tags": []
   },
   "outputs": [],
   "source": [
    "getsource(model.bbox_head.simple_test)"
   ]
  },
  {
   "cell_type": "code",
   "execution_count": null,
   "id": "6ceb7a45-13a1-4eaa-9358-cb3d99a8ce31",
   "metadata": {
    "tags": []
   },
   "outputs": [],
   "source": [
    "getsource(model.bbox_head.simple_test_bboxes)"
   ]
  },
  {
   "cell_type": "markdown",
   "id": "0f211337-877d-4cf2-9529-930279c65cf9",
   "metadata": {},
   "source": [
    "В функции model.bbox_head.simple_test вызывается функция model.bbox_head.simple_test_bboxes   \n",
    "В ней уже вызвывается следующие функции model.bbox_head.forward и model.bbox_head.get_bboxes\n",
    "\n",
    "Рассмотрим вывод функции model.bbox_head.forward. Можно заметить, что выход совпадает с выходом инференса onnx модели (разница в 3 знаке)   \n",
    "Следовательно, пост процессинг опрелляется в функицонале model.bbox_head.get_bboxes"
   ]
  },
  {
   "cell_type": "code",
   "execution_count": null,
   "id": "e3eb1cf0-f77d-4730-93f8-2f85675b29b0",
   "metadata": {
    "tags": []
   },
   "outputs": [],
   "source": [
    "torch_outs = model.bbox_head.forward(feat)\n",
    "\n",
    "tensor_id = 0\n",
    "for out_id, out in enumerate(torch_outs):\n",
    "    print(\"out_id: \", out_id)\n",
    "    for out_tensor in out:\n",
    "        print(f\"tensor_id: {tensor_id}, shape: {out_tensor.shape}\")\n",
    "        print(f\"diff torch_out and onnx_out : {np.median(out_tensor.detach().cpu().numpy() - out_onnx[tensor_id])}\")\n",
    "        tensor_id += 1"
   ]
  },
  {
   "cell_type": "markdown",
   "id": "54f4f83e-9567-41bf-97af-f8df99a2aeee",
   "metadata": {
    "tags": []
   },
   "source": [
    "##### Шаг 4.   \n",
    "Расмотрим код функций model.bbox_head.get_bboxes"
   ]
  },
  {
   "cell_type": "code",
   "execution_count": null,
   "id": "413cd4c0-c3c7-4fe9-b975-cc68226c3830",
   "metadata": {
    "tags": []
   },
   "outputs": [],
   "source": [
    "getsource(model.bbox_head.get_bboxes)"
   ]
  },
  {
   "cell_type": "markdown",
   "id": "cc9854e1-96e1-4649-81e3-f14b7e30a957",
   "metadata": {},
   "source": [
    "Функции используемые в model.bbox_head.get_bboxes:    \n",
    "model.bbox_head.prior_generator.grid_priors   \n",
    "model.bbox_head._bbox_decode   \n",
    "model.bbox_head._bboxes_nms   \n",
    "\n",
    "Инспектируем эти функции и функционал используемый в них"
   ]
  },
  {
   "cell_type": "code",
   "execution_count": null,
   "id": "ddf448f2-5de2-47b1-9883-7d26c93796e5",
   "metadata": {
    "scrolled": true,
    "tags": []
   },
   "outputs": [],
   "source": [
    "# model.bbox_head.prior_generator.grid_priors\n",
    "getsource(model.bbox_head.prior_generator.grid_priors)\n",
    "getsource(model.bbox_head.prior_generator.single_level_grid_priors)\n",
    "getsource(model.bbox_head.prior_generator._meshgrid)"
   ]
  },
  {
   "cell_type": "code",
   "execution_count": null,
   "id": "af967de2-23eb-47ba-98c6-c7ef7f484423",
   "metadata": {
    "tags": []
   },
   "outputs": [],
   "source": [
    "# model.bbox_head._bbox_decode\n",
    "getsource(model.bbox_head._bbox_decode)"
   ]
  },
  {
   "cell_type": "code",
   "execution_count": null,
   "id": "f514ff2f-75e8-4927-bf08-9037ca2094fc",
   "metadata": {
    "tags": []
   },
   "outputs": [],
   "source": [
    "# model.bbox_head._bboxes_nms\n",
    "getsource(model.bbox_head._bboxes_nms)"
   ]
  },
  {
   "cell_type": "markdown",
   "id": "6fe09233-92aa-4ffd-b3f8-05c059e1f0ef",
   "metadata": {
    "tags": []
   },
   "source": [
    "##### Шаг 5.   \n",
    "Расмотрим код функций batched_nms\n",
    "Который следуя из названия должен вклбчать в себя алгоритм NMS (Non-maximum Suppression)\n",
    "    \n",
    "Данная функция не принадлжеит классу model. И используется из другой библиотеки"
   ]
  },
  {
   "cell_type": "code",
   "execution_count": null,
   "id": "d148e1d5-72ae-4ac7-a808-4005e1d3c808",
   "metadata": {
    "tags": []
   },
   "outputs": [],
   "source": [
    "for member in inspect.getmembers(inspect.getmodule(model.bbox_head._bboxes_nms)):\n",
    "    if \"batched_nms\" in member[0]:\n",
    "        print(member)\n",
    "        member_filepath = inspect.getabsfile(member[1])\n",
    "        print(member_filepath)\n",
    "        break"
   ]
  },
  {
   "cell_type": "code",
   "execution_count": null,
   "id": "85f44ef5-afea-435e-b27b-802600e0b6e5",
   "metadata": {
    "scrolled": true,
    "tags": []
   },
   "outputs": [],
   "source": [
    "# !cat /opt/conda/lib/python3.9/site-packages/mmcv/ops/nms.py"
   ]
  },
  {
   "cell_type": "code",
   "execution_count": null,
   "id": "8044b604-d362-4939-a9fd-723bae8ba552",
   "metadata": {
    "tags": []
   },
   "outputs": [],
   "source": [
    "from mmcv.ops.nms import *"
   ]
  },
  {
   "cell_type": "code",
   "execution_count": null,
   "id": "74b38456-7e83-467d-aacf-93798a8d3c2a",
   "metadata": {
    "scrolled": true,
    "tags": []
   },
   "outputs": [],
   "source": [
    "getsource(batched_nms)"
   ]
  },
  {
   "cell_type": "code",
   "execution_count": null,
   "id": "fa64243c-784e-45d4-af1c-54ec1900e489",
   "metadata": {
    "tags": []
   },
   "outputs": [],
   "source": [
    "model.test_cfg "
   ]
  },
  {
   "cell_type": "code",
   "execution_count": null,
   "id": "e2ac3de3-6cfa-4972-9fe8-8a110a823a26",
   "metadata": {
    "scrolled": true,
    "tags": []
   },
   "outputs": [],
   "source": [
    "getsource(nms)"
   ]
  },
  {
   "cell_type": "code",
   "execution_count": null,
   "id": "e03a011b-463d-4295-9536-7402f213be1c",
   "metadata": {
    "scrolled": true,
    "tags": []
   },
   "outputs": [],
   "source": [
    "getsource(NMSop)\n",
    "\n",
    "# for member in inspect.getmembers(inspect.getmodule(NMSop)):\n",
    "#     if \"ext_module\" in member[0]:\n",
    "#         print(member)\n",
    "#         member_filepath = inspect.getabsfile(member[1])\n",
    "#         print(member_filepath)\n",
    "#         break"
   ]
  },
  {
   "cell_type": "code",
   "execution_count": null,
   "id": "21aa05fa-d3f1-425a-acfe-af95ff3bc285",
   "metadata": {
    "tags": []
   },
   "outputs": [],
   "source": [
    "print(ext_module)\n",
    "print(ext_module.nms)"
   ]
  },
  {
   "cell_type": "markdown",
   "id": "e3e43e47-8b22-4d1f-8ce0-e8355871d1d1",
   "metadata": {
    "tags": []
   },
   "source": [
    "Из класса NMSop следует, что основной алгоритм NMS скомпилирован в либу *.so    \n",
    "И сам python код функции nms не достать.   \n",
    "Однако, если поискать в исходниках mmcv https://github.com/open-mmlab/mmcv, то можно найти испольуземый код NMS, но в реализации C++"
   ]
  },
  {
   "cell_type": "markdown",
   "id": "ff983c48-8fe3-464b-bf2b-cb790fe097f6",
   "metadata": {
    "tags": []
   },
   "source": [
    "```\n",
    "Tensor nms_cpu(Tensor boxes, Tensor scores, float iou_threshold, int offset) {\n",
    "  if (boxes.numel() == 0) {\n",
    "    return at::empty({0}, boxes.options().dtype(at::kLong));\n",
    "  }\n",
    "  auto x1_t = boxes.select(1, 0).contiguous();\n",
    "  auto y1_t = boxes.select(1, 1).contiguous();\n",
    "  auto x2_t = boxes.select(1, 2).contiguous();\n",
    "  auto y2_t = boxes.select(1, 3).contiguous();\n",
    "\n",
    "  Tensor areas_t = (x2_t - x1_t + offset) * (y2_t - y1_t + offset);\n",
    "\n",
    "  auto order_t = std::get<1>(scores.sort(0, /* descending=*/true));\n",
    "\n",
    "  auto nboxes = boxes.size(0);\n",
    "  Tensor select_t = at::ones({nboxes}, boxes.options().dtype(at::kBool));\n",
    "\n",
    "  auto select = select_t.data_ptr<bool>();\n",
    "  auto order = order_t.data_ptr<int64_t>();\n",
    "  auto x1 = x1_t.data_ptr<float>();\n",
    "  auto y1 = y1_t.data_ptr<float>();\n",
    "  auto x2 = x2_t.data_ptr<float>();\n",
    "  auto y2 = y2_t.data_ptr<float>();\n",
    "  auto areas = areas_t.data_ptr<float>();\n",
    "\n",
    "  for (int64_t _i = 0; _i < nboxes; _i++) {\n",
    "    if (select[_i] == false) continue;\n",
    "    auto i = order[_i];\n",
    "    auto ix1 = x1[i];\n",
    "    auto iy1 = y1[i];\n",
    "    auto ix2 = x2[i];\n",
    "    auto iy2 = y2[i];\n",
    "    auto iarea = areas[i];\n",
    "\n",
    "    for (int64_t _j = _i + 1; _j < nboxes; _j++) {\n",
    "      if (select[_j] == false) continue;\n",
    "      auto j = order[_j];\n",
    "      auto xx1 = std::max(ix1, x1[j]);\n",
    "      auto yy1 = std::max(iy1, y1[j]);\n",
    "      auto xx2 = std::min(ix2, x2[j]);\n",
    "      auto yy2 = std::min(iy2, y2[j]);\n",
    "\n",
    "      auto w = std::max(0.f, xx2 - xx1 + offset);\n",
    "      auto h = std::max(0.f, yy2 - yy1 + offset);\n",
    "      auto inter = w * h;\n",
    "      auto ovr = inter / (iarea + areas[j] - inter);\n",
    "      if (ovr > iou_threshold) select[_j] = false;\n",
    "    }\n",
    "  }\n",
    "  return order_t.masked_select(select_t);\n",
    "}\n",
    "```"
   ]
  },
  {
   "cell_type": "markdown",
   "id": "c12f6e6a-f271-4ad1-bf3c-0d0e49d20f74",
   "metadata": {},
   "source": [
    "Перенесем этот код на python, с учетом использования numpy вместо torch"
   ]
  },
  {
   "cell_type": "markdown",
   "id": "686d2fca-69ce-46c9-a03d-d1bdb9c33e8e",
   "metadata": {
    "tags": []
   },
   "source": [
    "    def nms_cpu(boxes, scores, iou_threshold, offset):\n",
    "        if boxes.size == 0:\n",
    "            return np.array([])\n",
    "        x1_t = boxes[:, 0]\n",
    "        y1_t = boxes[:, 1]\n",
    "        x2_t = boxes[:, 2]\n",
    "        y2_t = boxes[:, 3]\n",
    "\n",
    "        areas_t = (x2_t - x1_t + offset) * (y2_t - y1_t + offset)\n",
    "        order_t = np.argsort(scores)[::-1]\n",
    "\n",
    "        nboxes = boxes.shape[0]\n",
    "        select_t = np.ones(nboxes, dtype = np.bool_)\n",
    "\n",
    "        for _i in range(nboxes):\n",
    "            if not select_t[_i]:\n",
    "                continue\n",
    "            i = order_t[_i]\n",
    "            ix1 = x1_t[i]\n",
    "            iy1 = y1_t[i]\n",
    "            ix2 = x2_t[i]\n",
    "            iy2 = y2_t[i]\n",
    "            iarea = areas_t[i]\n",
    "\n",
    "            for _j in range(_i+1, nboxes):\n",
    "                if not select_t[_j]:\n",
    "                    continue\n",
    "                j = order_t[_j];\n",
    "                xx1 = max(ix1, x1_t[j])\n",
    "                yy1 = max(iy1, y1_t[j])\n",
    "                xx2 = min(ix2, x2_t[j])\n",
    "                yy2 = min(iy2, y2_t[j])\n",
    "\n",
    "                w = max(0, xx2 - xx1 + offset)\n",
    "                h = max(0, yy2 - yy1 + offset)\n",
    "\n",
    "                inter = w * h\n",
    "                ovr = inter / (iarea + areas_t[j] - inter)\n",
    "                if (ovr > iou_threshold):\n",
    "                    select_t[_j] = False\n",
    "        return order_t[select_t]"
   ]
  },
  {
   "cell_type": "markdown",
   "id": "34c3187f-6574-4f3a-9a1b-be63b26de34f",
   "metadata": {},
   "source": [
    "#### Шаг 6. Пост процессинга для YOLOX_ONNX   \n",
    "Следует также, уточнить, что при инференсе onnx модели получаем numpy массивы, когда как в функционале mmdetection используется torch.   \n",
    "Поэтому отредактируем код функций по использования numpy\n"
   ]
  },
  {
   "cell_type": "code",
   "execution_count": null,
   "id": "763565b7-b679-404b-b6f7-ead1ab2b80ae",
   "metadata": {
    "tags": []
   },
   "outputs": [],
   "source": [
    "class YOLOXPostProcessing():\n",
    "    r\"\"\" postprocessing for output inference of onnx model YOLOX\"\"\"\n",
    "    \n",
    "    def __init__(self,\n",
    "                strides = [(8, 8), (16, 16), (32, 32)],             # model.bbox_head.prior_generator.strides\n",
    "                offset = 0,                                         # model.bbox_head.prior_generator.offset\n",
    "                num_levels = 3,                                     # model.bbox_head.prior_generator.num_levels\n",
    "                cls_out_channels = 1,                               # model.bbox_head.cls_out_channels\n",
    "                num_classes = 1):                                   # model.bbox_head.num_classes\n",
    "        self.strides = strides\n",
    "        self.offset = offset\n",
    "        self.num_levels = num_levels\n",
    "        self.cls_out_channels = cls_out_channels\n",
    "        self.num_classes = num_classes\n",
    "    \n",
    "    @staticmethod\n",
    "    def _sigmoid(x):\n",
    "        return 1 / (1 + np.exp(-x))\n",
    "    \n",
    "    @staticmethod\n",
    "    def _meshgrid(x, y, row_major=True):   # model.bbox_head.prior_generator._meshgrid\n",
    "        xx, yy = np.meshgrid(y, x)   \n",
    "        # yy, xx = torch.meshgrid(y, x)\n",
    "        if row_major:\n",
    "            return xx.reshape(-1), yy.reshape(-1)\n",
    "        else:\n",
    "            return yy.reshape(-1), xx.reshape(-1)\n",
    "    \n",
    "    @staticmethod\n",
    "    def bbox2result(bboxes, labels, num_classes):  \n",
    "        \"\"\"Convert detection results to a list of numpy arrays.\n",
    "        Args:\n",
    "            bboxes (np.ndarray): shape (n, 5)\n",
    "            labels (np.ndarray): shape (n, )\n",
    "            num_classes (int): class number, including background class\n",
    "\n",
    "        Returns:\n",
    "            list(ndarray): bbox results of each class\n",
    "        \"\"\"\n",
    "        if bboxes.shape[0] == 0:\n",
    "            return [np.zeros((0, 5), dtype=np.float32) for i in range(num_classes)]\n",
    "        else:\n",
    "            return [bboxes[labels == i, :] for i in range(num_classes)]\n",
    "        \n",
    "    def _bbox_decode(self, priors, bbox_preds):   # model.bbox_head._bbox_decode\n",
    "        xys = (bbox_preds[..., :2] * priors[:, 2:]) + priors[:, :2]\n",
    "        whs = np.exp(bbox_preds[..., 2:]) * priors[:, 2:]\n",
    "\n",
    "        tl_x = (xys[..., 0] - whs[..., 0] / 2)\n",
    "        tl_y = (xys[..., 1] - whs[..., 1] / 2)\n",
    "        br_x = (xys[..., 0] + whs[..., 0] / 2)\n",
    "        br_y = (xys[..., 1] + whs[..., 1] / 2)\n",
    "\n",
    "        decoded_bboxes = np.stack([tl_x, tl_y, br_x, br_y], -1)    \n",
    "        # decoded_bboxes = torch.stack([tl_x, tl_y, br_x, br_y], -1)\n",
    "        return decoded_bboxes\n",
    "        \n",
    "    def single_level_grid_priors(self,       \n",
    "                                 featmap_size,\n",
    "                                 level_idx,\n",
    "                                 dtype=np.float32,\n",
    "                                 with_stride=False):           # model.bbox_head.prior_generator.single_level_grid_priors\n",
    "        \"\"\"Generate grid Points of a single level.\n",
    "\n",
    "        Note:\n",
    "            This function is usually called by method ``self.grid_priors``.\n",
    "\n",
    "        Args:\n",
    "            featmap_size (tuple[int]): Size of the feature maps, arrange as\n",
    "                (h, w).\n",
    "            level_idx (int): The index of corresponding feature map level.\n",
    "            dtype (:obj:`dtype`): Dtype of priors. Default: torch.float32.\n",
    "            device (str, optional): The device the tensor will be put on.\n",
    "                Defaults to 'cuda'.\n",
    "            with_stride (bool): Concatenate the stride to the last dimension\n",
    "                of points.\n",
    "\n",
    "        Return:\n",
    "            Tensor: Points of single feature levels.\n",
    "            The shape of tensor should be (N, 2) when with stride is\n",
    "            ``False``, where N = width * height, width and height\n",
    "            are the sizes of the corresponding feature level,\n",
    "            and the last dimension 2 represent (coord_x, coord_y),\n",
    "            otherwise the shape should be (N, 4),\n",
    "            and the last dimension 4 represent\n",
    "            (coord_x, coord_y, stride_w, stride_h).\n",
    "        \"\"\"\n",
    "        feat_h, feat_w = featmap_size\n",
    "        stride_w, stride_h = self.strides[level_idx]\n",
    "        shift_x = (np.arange(0, feat_w) + self.offset) * stride_w   \n",
    "        # shift_x = (torch.arange(0, feat_w, device=device) + self.offset) * stride_w\n",
    "        shift_x = shift_x.astype(dtype)\n",
    "\n",
    "        shift_y = (np.arange(0, feat_h) + self.offset) * stride_h  \n",
    "        # shift_y = (torch.arange(0, feat_h, device=device) + self.offset) * stride_h\n",
    "        shift_y = shift_y.astype(dtype)\n",
    "        shift_xx, shift_yy = self._meshgrid(shift_x, shift_y)\n",
    "        if not with_stride:\n",
    "            shifts = np.stack([shift_xx, shift_yy], axis=-1)   \n",
    "            # shifts = torch.stack([shift_xx, shift_yy], dim=-1)\n",
    "        else:\n",
    "            stride_w = np.full((shift_xx.shape[0], ), stride_w).astype(dtype)  \n",
    "            # stride_w = shift_xx.new_full((shift_xx.shape[0], ), stride_w).to(dtype)\n",
    "            stride_h = np.full((shift_yy.shape[0], ),stride_h).astype(dtype)   \n",
    "            # stride_h = shift_xx.new_full((shift_yy.shape[0], ), stride_h).to(dtype)\n",
    "            shifts = np.stack([shift_xx, shift_yy, stride_w, stride_h], axis=-1) \n",
    "            # shifts = torch.stack([shift_xx, shift_yy, stride_w, stride_h], dim=-1)\n",
    "        all_points = shifts\n",
    "        return all_points\n",
    "    \n",
    "    def grid_priors(self,\n",
    "                    featmap_sizes,\n",
    "                    dtype=np.float32,\n",
    "                    with_stride=False):  # model.bbox_head.prior_generator.grid_priors\n",
    "        \"\"\"Generate grid points of multiple feature levels.\n",
    "\n",
    "        Args:\n",
    "            featmap_sizes (list[tuple]): List of feature map sizes in\n",
    "                multiple feature levels, each size arrange as\n",
    "                as (h, w).\n",
    "            dtype (:obj:`dtype`): Dtype of priors. Default: numpy.float32.\n",
    "            with_stride (bool): Whether to concatenate the stride to\n",
    "                the last dimension of points.\n",
    "\n",
    "        Return:\n",
    "            list[torch.Tensor]: Points of  multiple feature levels.\n",
    "            The sizes of each tensor should be (N, 2) when with stride is\n",
    "            ``False``, where N = width * height, width and height\n",
    "            are the sizes of the corresponding feature level,\n",
    "            and the last dimension 2 represent (coord_x, coord_y),\n",
    "            otherwise the shape should be (N, 4),\n",
    "            and the last dimension 4 represent\n",
    "            (coord_x, coord_y, stride_w, stride_h).\n",
    "        \"\"\"\n",
    "\n",
    "        assert self.num_levels == len(featmap_sizes)\n",
    "        multi_level_priors = []\n",
    "        for i in range(self.num_levels):\n",
    "            priors = self.single_level_grid_priors(\n",
    "                featmap_sizes[i],\n",
    "                level_idx=i,\n",
    "                dtype=dtype,\n",
    "                with_stride=with_stride)\n",
    "            multi_level_priors.append(priors)\n",
    "        return multi_level_priors\n",
    "    \n",
    "    def get_bboxes(self, \n",
    "                   cls_scores,\n",
    "                   bbox_preds,\n",
    "                   objectnesses,\n",
    "                   scale_factor = None,\n",
    "                   score_thr: float = 0.01,    \n",
    "                   iou_threshold: float = 0.5,\n",
    "                   with_nms=True):\n",
    "        \"\"\"Transform network outputs of a batch into bbox results.\n",
    "        Args:\n",
    "            cls_scores (list[numpy.array]): Classification scores for all\n",
    "                scale levels, each is a 4D-tensor, has shape\n",
    "                (batch_size, num_priors * num_classes, H, W).\n",
    "            bbox_preds (list[numpy.array]): Box energies / deltas for all\n",
    "                scale levels, each is a 4D-tensor, has shape\n",
    "                (batch_size, num_priors * 4, H, W).\n",
    "            objectnesses (list[numpy.array], Optional): Score factor for\n",
    "                all scale level, each is a 4D-tensor, has shape\n",
    "                (batch_size, 1, H, W).\n",
    "            scale_factor (numpy.array[numpy.array], Optional): Rescale coefficents for input images. Default None.\n",
    "            with_nms (bool): If True, do nms before return boxes.\n",
    "                Default True.\n",
    "        Returns:\n",
    "            list[list[Tensor, Tensor]]: Each item in result_list is 2-tuple.\n",
    "                The first item is an (n, 5) tensor, where the first 4 columns\n",
    "                are bounding box positions (tl_x, tl_y, br_x, br_y) and the\n",
    "                5-th column is a score between 0 and 1. The second item is a\n",
    "                (n,) tensor where each item is the predicted class label of\n",
    "                the corresponding box.\n",
    "        \"\"\"\n",
    "        assert len(cls_scores) == len(bbox_preds) == len(objectnesses)\n",
    "        # cfg = self.test_cfg if cfg is None else cfg\n",
    "        num_imgs = cls_scores[0].shape[0]\n",
    "        \n",
    "        if not isinstance(scale_factor, np.ndarray):\n",
    "            scale_factor = np.array([[1.0, 1.0, 1.0, 1.0] for img_id in range(num_imgs)], dtype=np.float32)\n",
    "        if not scale_factor.any():\n",
    "            scale_factor = np.array([[1.0, 1.0, 1.0, 1.0] for img_id in range(num_imgs)], dtype=np.float32)        \n",
    "        \n",
    "        featmap_sizes = [cls_score.shape[2:] for cls_score in cls_scores]\n",
    "        mlvl_priors = self.grid_priors(featmap_sizes, \n",
    "                                       dtype=cls_scores[0].dtype,\n",
    "                                       with_stride=True)\n",
    "        \n",
    "        # flatten cls_scores, bbox_preds and objectness\n",
    "        flatten_cls_scores = [\n",
    "            cls_score.transpose(0, 2, 3, 1).reshape(num_imgs, -1,\n",
    "                                                  self.cls_out_channels)\n",
    "            # cls_score.permute(0, 2, 3, 1).reshape(num_imgs, -1,\n",
    "            #                                       self.cls_out_channels)\n",
    "            for cls_score in cls_scores\n",
    "        ]\n",
    "        flatten_bbox_preds = [\n",
    "            bbox_pred.transpose(0, 2, 3, 1).reshape(num_imgs, -1, 4)\n",
    "            # bbox_pred.permute(0, 2, 3, 1).reshape(num_imgs, -1, 4)\n",
    "            for bbox_pred in bbox_preds\n",
    "        ]\n",
    "        flatten_objectness = [\n",
    "            objectness.transpose(0, 2, 3, 1).reshape(num_imgs, -1)\n",
    "            # objectness.permute(0, 2, 3, 1).reshape(num_imgs, -1)\n",
    "            for objectness in objectnesses\n",
    "        ]\n",
    "        \n",
    "        flatten_cls_scores = self._sigmoid(np.concatenate(flatten_cls_scores, axis=1))\n",
    "        # flatten_cls_scores = torch.cat(flatten_cls_scores, dim=1).sigmoid()\n",
    "        flatten_bbox_preds = np.concatenate(flatten_bbox_preds, axis=1)\n",
    "        # flatten_bbox_preds = torch.cat(flatten_bbox_preds, dim=1)\n",
    "        flatten_objectness = self._sigmoid(np.concatenate(flatten_objectness, axis=1))\n",
    "        # flatten_objectness = torch.cat(flatten_objectness, dim=1).sigmoid()\n",
    "        flatten_priors = np.concatenate(mlvl_priors)\n",
    "        # flatten_priors = torch.cat(mlvl_priors)\n",
    "        \n",
    "        flatten_bboxes = self._bbox_decode(flatten_priors, flatten_bbox_preds)\n",
    "        \n",
    "        # rescale - return boxes in original image space\n",
    "        print(scale_factor)\n",
    "        flatten_bboxes = [flatten_bboxes[id_img, ..., :4] / np.expand_dims(scale_factor[id_img], axis=0) for id_img in range(num_imgs)]\n",
    "        flatten_bboxes = np.stack(flatten_bboxes, axis=0)\n",
    "        \n",
    "        result_list = []\n",
    "        \n",
    "        for img_id in range(num_imgs):\n",
    "            cls_scores = flatten_cls_scores[img_id]\n",
    "            score_factor = flatten_objectness[img_id]\n",
    "            bboxes = flatten_bboxes[img_id]\n",
    "            \n",
    "            # return cls_scores, score_factor, bboxes\n",
    "            \n",
    "            result_list.append(\n",
    "                self._bboxes_nms(cls_scores, bboxes, score_factor, score_thr=score_thr, iou_thr=iou_threshold))\n",
    "        \n",
    "        bbox_results = [self.bbox2result(det_bboxes, det_labels, self.num_classes) for det_bboxes, det_labels in result_list]\n",
    "        \n",
    "        return bbox_results\n",
    "    \n",
    "    def _bboxes_nms(self, cls_scores, bboxes, score_factor, score_thr, iou_thr):  #model.bbox_head._bboxes_nms\n",
    "        max_scores = np.max(cls_scores, 1)\n",
    "        labels = np.argmax(cls_scores, 1)\n",
    "        # max_scores, labels = torch.max(cls_scores, 1)\n",
    "        \n",
    "        valid_mask = score_factor * max_scores >= score_thr\n",
    "        # return max_scores, labels\n",
    "\n",
    "        bboxes = bboxes[valid_mask]\n",
    "        scores = max_scores[valid_mask] * score_factor[valid_mask]\n",
    "        labels = labels[valid_mask]\n",
    "        \n",
    "        # return bboxes, scores, labels\n",
    "        if labels.size == 0:\n",
    "            return bboxes, labels\n",
    "        else:\n",
    "            dets, keep = NMS.batched_nms(bboxes, scores, labels, iou_threshold = iou_thr, score_threshold=score_thr)\n",
    "            return dets, labels[keep]        \n",
    "\n",
    "class NMS: \n",
    "    @staticmethod\n",
    "    def nms_op(boxes,\n",
    "               scores,\n",
    "               iou_threshold: float = 0.5,\n",
    "               score_threshold: float = 0.1,               \n",
    "               offset: int = 0,\n",
    "               max_num: int = -1):\n",
    "\n",
    "        assert boxes.shape[-1] == 4\n",
    "        assert boxes.shape[0] == scores.shape[0]\n",
    "        assert offset in (0, 1)\n",
    "               \n",
    "        valid_mask = scores > score_threshold\n",
    "        boxes, scores = boxes[valid_mask], scores[valid_mask]\n",
    "        valid_inds = np.nonzero(valid_mask)[0]\n",
    "        # valid_inds = torch.nonzero(valid_mask, as_tuple=False).squeeze(dim=1)        \n",
    "\n",
    "        inds = NMS.nms_cpu(boxes, scores, iou_threshold, offset)\n",
    "        \n",
    "        if max_num > 0:\n",
    "            inds = inds[:max_num]\n",
    "        inds = valid_inds[inds]\n",
    "        \n",
    "        dets = np.concatenate([boxes[inds], scores[inds].reshape(-1, 1)], axis=-1)\n",
    "        # dets = torch.cat((boxes[inds], scores[inds].reshape(-1, 1)), dim=1)        \n",
    "        return dets, inds\n",
    "    \n",
    "    @staticmethod\n",
    "    def nms_cpu(boxes, scores, iou_threshold, offset):\n",
    "        if boxes.size == 0:\n",
    "            return np.array([])\n",
    "        x1_t = boxes[:, 0]\n",
    "        y1_t = boxes[:, 1]\n",
    "        x2_t = boxes[:, 2]\n",
    "        y2_t = boxes[:, 3]\n",
    "\n",
    "        areas_t = (x2_t - x1_t + offset) * (y2_t - y1_t + offset)\n",
    "        order_t = np.argsort(scores)[::-1]\n",
    "\n",
    "        nboxes = boxes.shape[0]\n",
    "        select_t = np.ones(nboxes, dtype = np.bool_)\n",
    "\n",
    "        for _i in range(nboxes):\n",
    "            if not select_t[_i]:\n",
    "                continue\n",
    "            i = order_t[_i]\n",
    "            ix1 = x1_t[i]\n",
    "            iy1 = y1_t[i]\n",
    "            ix2 = x2_t[i]\n",
    "            iy2 = y2_t[i]\n",
    "            iarea = areas_t[i]\n",
    "\n",
    "            for _j in range(_i+1, nboxes):\n",
    "                if not select_t[_j]:\n",
    "                    continue\n",
    "                j = order_t[_j];\n",
    "                xx1 = max(ix1, x1_t[j])\n",
    "                yy1 = max(iy1, y1_t[j])\n",
    "                xx2 = min(ix2, x2_t[j])\n",
    "                yy2 = min(iy2, y2_t[j])\n",
    "\n",
    "                w = max(0, xx2 - xx1 + offset)\n",
    "                h = max(0, yy2 - yy1 + offset)\n",
    "\n",
    "                inter = w * h\n",
    "                ovr = inter / (iarea + areas_t[j] - inter)\n",
    "                if (ovr > iou_threshold):\n",
    "                    select_t[_j] = False\n",
    "        return order_t[select_t]\n",
    "    \n",
    "    @staticmethod\n",
    "    def batched_nms(boxes,\n",
    "                    scores,\n",
    "                    idxs, \n",
    "                    iou_threshold: float = 0.5,\n",
    "                    score_threshold: float = 0.1,\n",
    "                    class_agnostic: bool = False,\n",
    "                    offset:int = 0):\n",
    "        r\"\"\"Performs non-maximum suppression in a batched fashion.\n",
    "\n",
    "        Modified from `torchvision/ops/boxes.py#L39\n",
    "        <https://github.com/pytorch/vision/blob/\n",
    "        505cd6957711af790211896d32b40291bea1bc21/torchvision/ops/boxes.py#L39>`_.\n",
    "        In order to perform NMS independently per class, we add an offset to all\n",
    "        the boxes. The offset is dependent only on the class idx, and is large\n",
    "        enough so that boxes from different classes do not overlap.\n",
    "\n",
    "        Args:\n",
    "            boxes (torch.Tensor): boxes in shape (N, 4) or (N, 5).\n",
    "            scores (torch.Tensor): scores in shape (N, ).\n",
    "            idxs (torch.Tensor): each index value correspond to a bbox cluster,\n",
    "                and NMS will not be applied between elements of different idxs,\n",
    "                shape (N, ).\n",
    "            iou_threshold (float): IoU threshold used for NMS.\n",
    "            class_agnostic (bool): if true, nms is class agnostic,\n",
    "                i.e. IoU thresholding happens over all boxes,\n",
    "                regardless of the predicted class. Defaults to False.\n",
    "\n",
    "        Returns:\n",
    "            tuple: kept dets and indice.\n",
    "\n",
    "            - boxes (Tensor): Bboxes with score after nms, has shape\n",
    "              (num_bboxes, 5). last dimension 5 arrange as\n",
    "              (x1, y1, x2, y2, score)\n",
    "            - keep (Tensor): The indices of remaining boxes in input\n",
    "              boxes.\n",
    "        \"\"\"\n",
    "        if class_agnostic:\n",
    "            boxes_for_nms = boxes\n",
    "        else:\n",
    "            # When using rotated boxes, only apply offsets on center.\n",
    "            # if boxes.size(-1) == 5:\n",
    "            if boxes.shape[-1] == 5:\n",
    "                # Strictly, the maximum coordinates of the rotating box\n",
    "                # (x,y,w,h,a) should be calculated by polygon coordinates.\n",
    "                # But the conversion from rotated box to polygon will\n",
    "                # slow down the speed.\n",
    "                # So we use max(x,y) + max(w,h) as max coordinate\n",
    "                # which is larger than polygon max coordinate\n",
    "                # max(x1, y1, x2, y2,x3, y3, x4, y4)\n",
    "                max_coordinate = boxes[..., :2].max() + boxes[..., 2:4].max()\n",
    "                offsets = idxs.astype(boxes.dtype) + (max_coordinate + np.array(1).astype(boxes.dtype))\n",
    "                boxes_ctr_for_nms = boxes[..., :2] + offsets[:, None]\n",
    "                boxes_for_nms = np.concatenate([boxes_ctr_for_nms, bboxes[..., 2:5]], axis=-1)\n",
    "                # boxes_for_nms = torch.cat([boxes_ctr_for_nms, boxes[..., 2:5]],\n",
    "                #                           dim=-1)\n",
    "            else:\n",
    "                max_coordinate = boxes.max()\n",
    "                offsets = idxs.astype(boxes.dtype) + (max_coordinate + np.array(1).astype(boxes.dtype))\n",
    "                # offsets = idxs.to(boxes) * (max_coordinate + torch.tensor(1).to(boxes))                \n",
    "                boxes_for_nms = boxes + offsets[:, None]\n",
    "                \n",
    "        dets, keep = NMS.nms_op(boxes_for_nms, scores, iou_threshold, score_threshold, offset)\n",
    "        boxes = boxes[keep]\n",
    "        scores = dets[:, -1]\n",
    "        boxes = np.concatenate([boxes, scores[:, None]], axis= -1)                               \n",
    "        # boxes = torch.cat([boxes, scores[:, None]], -1)\n",
    "        return boxes, keep\n",
    "    \n",
    "\n"
   ]
  },
  {
   "cell_type": "code",
   "execution_count": null,
   "id": "b3136c29-04c1-42e1-89cf-98eb362df0aa",
   "metadata": {
    "tags": []
   },
   "outputs": [],
   "source": [
    "print(f\"strides = {model.bbox_head.prior_generator.strides}\")\n",
    "print(f\"offset = {model.bbox_head.prior_generator.offset}\")\n",
    "print(f\"num_levels = {model.bbox_head.prior_generator.num_levels}\")\n",
    "print(f\"cls_out_channels = {model.bbox_head.cls_out_channels}\")\n",
    "print(f\"num_channels = {model.bbox_head.num_classes}\")"
   ]
  },
  {
   "cell_type": "code",
   "execution_count": null,
   "id": "81537086-eaf8-49c9-8d85-8e69179153ab",
   "metadata": {
    "tags": []
   },
   "outputs": [],
   "source": [
    "model.test_cfg.nms"
   ]
  },
  {
   "cell_type": "code",
   "execution_count": null,
   "id": "4bf8644f-0615-4124-be68-173515c91c9f",
   "metadata": {
    "tags": []
   },
   "outputs": [],
   "source": [
    "cls_scores = [out_onnx[i] for i in range(3)]\n",
    "bbox_preds = [out_onnx[i] for i in range(3, 6)]\n",
    "objectnesses =[out_onnx[i] for i in range(6, 9)]\n"
   ]
  },
  {
   "cell_type": "code",
   "execution_count": null,
   "id": "b7b90b7e-fdc8-44ca-a2ad-269aff09f410",
   "metadata": {
    "tags": []
   },
   "outputs": [],
   "source": [
    "# Число классов объектов\n",
    "cls_out_channels = model.bbox_head.cls_out_channels\n",
    "num_classes = model.bbox_head.num_classes\n",
    "print(\"num_classes\", num_classes)"
   ]
  },
  {
   "cell_type": "markdown",
   "id": "3463f90b-6891-4b0c-8a6f-79cceccbbbbb",
   "metadata": {
    "tags": []
   },
   "source": [
    "Важное замечание!   \n",
    "При изменении параметров обучаемой модели - в данном случае изенение числа классов объектов (по умолчанию = 1)    \n",
    "Также требуется изменить и класс описания bentoservice (bento_service.py или bento_service_nms.py)    \n",
    "\n",
    "```\n",
    "self.yolox_postprocessing = YOLOXPostProcessing(strides = [(8, 8), (16, 16), (32, 32)],\n",
    "                                                offset = 0, \n",
    "                                                num_levels = 3, \n",
    "                                                cls_out_channels = 1,\n",
    "                                                num_classes=1) \n",
    "```"
   ]
  },
  {
   "cell_type": "code",
   "execution_count": null,
   "id": "79d97faa-ada8-4805-a1ce-4f9aa8e6fd8b",
   "metadata": {
    "tags": []
   },
   "outputs": [],
   "source": [
    "num_imgs = cls_scores[0].shape[0]\n",
    "scale_factors = np.array([data['img_metas'][img_id][0][\"scale_factor\"] for img_id in range(num_imgs)])\n",
    "# scale_factors = np.array([np.array([1.0, 1.0, 1.0, 1.0])*(img_id+1) for img_id in range(num_imgs)], dtype=np.float32)    \n",
    "scale_factors"
   ]
  },
  {
   "cell_type": "code",
   "execution_count": null,
   "id": "71391726-62eb-4fba-8d81-8992d136497a",
   "metadata": {
    "scrolled": true,
    "tags": []
   },
   "outputs": [],
   "source": [
    "yolox_postprocessing = YOLOXPostProcessing(strides = [(8, 8), (16, 16), (32, 32)],\n",
    "                                           offset = 0, \n",
    "                                           num_levels = 3, \n",
    "                                           cls_out_channels = 1,\n",
    "                                           num_classes=1)\n",
    "\n",
    "bbox_results = yolox_postprocessing.get_bboxes(cls_scores, bbox_preds, objectnesses, scale_factor=scale_factors, score_thr=0.01, iou_threshold=0.5)\n",
    "for bbox_result in bbox_results:\n",
    "    for bboxes in bbox_result:\n",
    "        print(bboxes.shape)\n",
    "        print(bboxes)"
   ]
  },
  {
   "cell_type": "code",
   "execution_count": null,
   "id": "39536417-9aa7-48d2-9eb0-5f7157facf92",
   "metadata": {
    "tags": []
   },
   "outputs": [],
   "source": [
    "show_result_pyplot(model, test_image_path, bbox_results[0], score_thr=0.05)"
   ]
  },
  {
   "cell_type": "code",
   "execution_count": null,
   "id": "ae54a62d-3b54-4886-b668-d4db50a090ed",
   "metadata": {
    "scrolled": true,
    "tags": []
   },
   "outputs": [],
   "source": [
    "cls_scores = [torch.Tensor(out_onnx[i]) for i in range(3)]\n",
    "bbox_preds = [torch.Tensor(out_onnx[i]) for i in range(3, 6)]\n",
    "objectnesses =[torch.Tensor(out_onnx[i]) for i in range(6, 9)]\n",
    "\n",
    "results_list = model.bbox_head.get_bboxes(cls_scores, bbox_preds, objectnesses, img_metas= data['img_metas'][0], rescale=True)\n",
    "bbox_results = [yolox_postprocessing.bbox2result(det_bboxes, det_labels, model.bbox_head.num_classes) for det_bboxes, det_labels in results_list]\n",
    "for bbox_result in bbox_results:\n",
    "    for bboxes in bbox_result:\n",
    "        print(bboxes.shape)\n",
    "        print(bboxes)"
   ]
  },
  {
   "cell_type": "code",
   "execution_count": null,
   "id": "5839b5a5-d1f9-457f-9a1c-533c04630223",
   "metadata": {
    "tags": []
   },
   "outputs": [],
   "source": [
    "show_result_pyplot(model, test_image_path, bbox_results[0], score_thr=0.05)"
   ]
  },
  {
   "cell_type": "code",
   "execution_count": null,
   "id": "72e776ba-99ce-4da6-95e6-1905f6731163",
   "metadata": {},
   "outputs": [],
   "source": [
    "#11 #SparkEnvironment.stopSparkSession()\n",
    "\n",
    "SparkEnvironment.stopSparkSession()"
   ]
  },
  {
   "cell_type": "code",
   "execution_count": null,
   "id": "5c13858b-6d89-473d-83dd-0667f38a5874",
   "metadata": {},
   "outputs": [],
   "source": []
  }
 ],
 "metadata": {
  "kernelspec": {
   "display_name": "cv",
   "language": "python",
   "name": "cv"
  },
  "language_info": {
   "codemirror_mode": {
    "name": "ipython",
    "version": 3
   },
   "file_extension": ".py",
   "mimetype": "text/x-python",
   "name": "python",
   "nbconvert_exporter": "python",
   "pygments_lexer": "ipython3",
   "version": "3.9.10"
  }
 },
 "nbformat": 4,
 "nbformat_minor": 5
}
