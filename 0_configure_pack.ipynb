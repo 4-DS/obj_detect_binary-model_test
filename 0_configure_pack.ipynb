{
 "cells": [
  {
   "cell_type": "code",
   "execution_count": null,
   "id": "e5095afd-76cd-44b8-8218-24aebe49d6ef",
   "metadata": {
    "tags": []
   },
   "outputs": [],
   "source": [
    "%load_ext autoreload\n",
    "%autoreload 2"
   ]
  },
  {
   "cell_type": "markdown",
   "id": "7098cc68-dd52-4174-addf-32e7a99ca265",
   "metadata": {},
   "source": [
    "Declaration of parameters (you must also add a tag for this cell - parameters)"
   ]
  },
  {
   "cell_type": "code",
   "execution_count": null,
   "id": "cafbc98f-d93c-4f82-a98e-f21bc740fcae",
   "metadata": {
    "tags": [
     "parameters"
    ]
   },
   "outputs": [],
   "source": [
    "#2. specify parameters\n",
    "pipeline_params={\n",
    "}\n",
    "step_params={\n",
    "}\n",
    "substep_params={   \n",
    "    \"type_export\" : \"torch_export\",   # [\"mmdeploy_export\", \"torch_export\"]\n",
    "}"
   ]
  },
  {
   "cell_type": "code",
   "execution_count": null,
   "id": "9fb8158b-c653-4311-a337-1f03bfa8aaec",
   "metadata": {
    "tags": []
   },
   "outputs": [],
   "source": [
    "#3 define substep interface\n",
    "from sinara.substep import NotebookSubstep, default_param_values, ENV_NAME, PIPELINE_NAME, ZONE_NAME, STEP_NAME, RUN_ID, ENTITY_NAME, ENTITY_PATH, SUBSTEP_NAME\n",
    "\n",
    "substep = NotebookSubstep(pipeline_params, step_params, substep_params, **default_param_values(\"params/step_params.json\"))\n",
    "\n",
    "substep.interface(\n",
    "    inputs =\n",
    "    [ \n",
    "      { STEP_NAME: \"2_model_train\", ENTITY_NAME: \"model\"}\n",
    "    ],\n",
    "    \n",
    "    tmp_outputs =\n",
    "    [\n",
    "        { ENTITY_NAME: \"cache_data\" }\n",
    "    ]\n",
    ")\n",
    "\n",
    "substep.print_interface_info()\n",
    "\n",
    "substep.exit_in_visualize_mode()"
   ]
  },
  {
   "cell_type": "markdown",
   "id": "1fc4d876-c0c4-471f-a3f9-f12ab4db54c2",
   "metadata": {
    "tags": []
   },
   "source": [
    "![interface 0_configure_pack_interface.drawio](./imgs/0_configure_pack_interface.drawio.png)"
   ]
  },
  {
   "cell_type": "code",
   "execution_count": null,
   "id": "b46ce9b4-8a59-468a-87d9-8158cadfc1a3",
   "metadata": {
    "tags": []
   },
   "outputs": [],
   "source": [
    "#4 get substep.interface\n",
    "inputs = substep.inputs(step_name = \"2_model_train\")\n",
    "tmp_outputs = substep.tmp_outputs()\n",
    "\n",
    "print(f\"{inputs.model=}\")\n",
    "\n",
    "print(f\"{tmp_outputs.cache_data=}\")"
   ]
  },
  {
   "cell_type": "code",
   "execution_count": null,
   "id": "2dc2ad7a-a53b-4289-a750-e35f294b8d28",
   "metadata": {
    "tags": []
   },
   "outputs": [],
   "source": [
    "# Create dir by URLs of tmp_outputs\n",
    "import os\n",
    "import os.path as osp\n",
    "os.makedirs(tmp_outputs.cache_data, exist_ok=True)"
   ]
  },
  {
   "cell_type": "code",
   "execution_count": null,
   "id": "1578abaf-08a7-440c-9b8f-d9f1bf0a0249",
   "metadata": {
    "tags": []
   },
   "outputs": [],
   "source": [
    "#5 run spark\n",
    "from sinara.spark import SinaraSpark\n",
    "\n",
    "spark = SinaraSpark.run_session(0)\n",
    "SinaraSpark.ui_url()"
   ]
  },
  {
   "cell_type": "markdown",
   "id": "cfbabc32-788f-48c0-bf17-1a5926f4e15c",
   "metadata": {
    "tags": []
   },
   "source": [
    "#### Loading a trained model from the model_train component \n",
    "(weights, configs)"
   ]
  },
  {
   "cell_type": "code",
   "execution_count": null,
   "id": "bcb3e290-6636-4902-89b2-a64fb7d92769",
   "metadata": {
    "tags": []
   },
   "outputs": [],
   "source": [
    "from sinara.store import SinaraStore\n",
    "from pathlib import Path\n",
    "\n",
    "# copy config from previos step to outputs\n",
    "SinaraStore.copy_store_files_to_tmp(store_dir=inputs.model, tmp_dir=tmp_outputs.cache_data)\n",
    "# Create SUCCESS file after copy from store\n",
    "Path(osp.join(tmp_outputs.cache_data, '_SUCCESS')).touch()"
   ]
  },
  {
   "cell_type": "code",
   "execution_count": null,
   "id": "9789a1b4-dd38-4c41-951b-c2433b54c089",
   "metadata": {
    "tags": []
   },
   "outputs": [],
   "source": [
    "!ls -lh {tmp_outputs.cache_data}"
   ]
  },
  {
   "cell_type": "markdown",
   "id": "4d5bc59e-6e98-4b3e-b5c1-981ece1a7ffe",
   "metadata": {
    "tags": []
   },
   "source": [
    "#### Reading the configuration file and adding parameters"
   ]
  },
  {
   "cell_type": "code",
   "execution_count": null,
   "id": "abfbdba8-a39c-4114-9947-8a0bff20e358",
   "metadata": {
    "tags": []
   },
   "outputs": [],
   "source": [
    "import json\n",
    "config_fn = os.path.join(tmp_outputs.cache_data, 'config.json')\n",
    "\n",
    "with open(config_fn) as f_id:\n",
    "    CONFIG = json.load(f_id)"
   ]
  },
  {
   "cell_type": "code",
   "execution_count": null,
   "id": "3521023d-c8f8-4d82-8b16-608f15f7f6ba",
   "metadata": {
    "tags": []
   },
   "outputs": [],
   "source": [
    "CONFIG"
   ]
  },
  {
   "cell_type": "code",
   "execution_count": null,
   "id": "3911c7d1-b217-43c4-94f0-ddaf039a69fb",
   "metadata": {
    "tags": []
   },
   "outputs": [],
   "source": [
    "DEVICE = \"cuda:0\"\n",
    "MODEL_NAME = CONFIG[\"train_config_parameters\"][\"MODEL_NAME\"]\n",
    "CONFIG['work_dir'] = tmp_outputs.cache_data\n",
    "WORK_DIR = CONFIG['work_dir']\n",
    "ONNX_DIR = os.path.join(WORK_DIR, \"onnx\")\n",
    "CONFIG['onnx_dir'] = ONNX_DIR\n",
    "CONFIG['device'] = DEVICE\n",
    "\n",
    "TYPE_EXPORT = substep_params[\"type_export\"]\n",
    "assert TYPE_EXPORT in [\"mmdeploy_export\", \"torch_export\"]\n",
    "\n",
    "test_image_path = osp.join(tmp_outputs.cache_data, \"test.jpg\")\n",
    "assert osp.exists(test_image_path)"
   ]
  },
  {
   "cell_type": "markdown",
   "id": "462333d6-467f-47ed-8ff2-e6b39e27e959",
   "metadata": {
    "tags": []
   },
   "source": [
    "Selecting a weights file to convert to onnx format (best, latest era, etc.)"
   ]
  },
  {
   "cell_type": "code",
   "execution_count": null,
   "id": "e2c38b80-775d-4e55-ac22-860b3b6323d5",
   "metadata": {
    "tags": []
   },
   "outputs": [],
   "source": [
    "# Select model files\n",
    "model_path = tmp_outputs.cache_data\n",
    "save_best  = False\n",
    "files = [osp.join(model_path, file) for file in os.listdir(model_path)]\n",
    "\n",
    "models_pth  = [file for file in files if '.pth' in file and not os.path.islink(file)]\n",
    "best_models = [file for file in models_pth if 'best' in file]\n",
    "latest_models = [file for file in models_pth if 'latest' in file]\n",
    "\n",
    "assert len(best_models), 'model have not pth files.'\n",
    "\n",
    "if save_best and len(best_models) > 0:\n",
    "    models_pth = best_models\n",
    "else:\n",
    "    models_pth = latest_models\n",
    "    \n",
    "models_pth.sort(key=lambda file: osp.getmtime(file))\n",
    "\n",
    "last_model = models_pth[-1]\n",
    "cfg_model = osp.join(CONFIG['work_dir'], \"last_cfg.py\")\n",
    "\n",
    "last_model_onnx = f\"{osp.splitext(osp.basename(last_model))[0]}.onnx\"\n",
    "print(f\"{last_model=}\")\n",
    "print(f\"{last_model_onnx=}\")"
   ]
  },
  {
   "cell_type": "code",
   "execution_count": null,
   "id": "513aa048-b87f-4241-9c76-2a4e57fb2ef3",
   "metadata": {
    "tags": []
   },
   "outputs": [],
   "source": [
    "import mmdeploy\n",
    "from mmcv import Config, ConfigDict\n",
    "import mmcv\n",
    "import mmdet\n",
    "from mmdeploy.utils import load_config\n",
    "\n",
    "print(f\"{mmcv.__version__=}\")\n",
    "print(f\"{mmdet.__version__=}\")\n",
    "print(f\"{mmdeploy.__version__=}\")\n",
    "\n",
    "\n",
    "cfg = Config.fromfile(cfg_model)\n",
    "\n",
    "cfg_deploy_dir = osp.join(\"/home/jovyan/mmdeploy\", 'configs')\n",
    "cfg_deploy_path = \"mmdet/detection/detection_onnxruntime_dynamic.py\"\n",
    "cfg_deploy_path = osp.join(cfg_deploy_dir, cfg_deploy_path)\n",
    "# cfg_deploy = Config.fromfile(cfg_deploy_path)\n",
    "\n",
    "cfg_deploy, cfg = load_config(cfg_deploy_path, cfg_model)\n",
    "\n",
    "cfg_deploy.onnx_config.save_file = f\"{osp.splitext(osp.basename(last_model))[0]}.onnx\"\n",
    "print(cfg_deploy.pretty_text)"
   ]
  },
  {
   "cell_type": "markdown",
   "id": "57e3f979-a927-47e7-8250-c6be07844823",
   "metadata": {
    "tags": []
   },
   "source": [
    "Writing model conversion configs to onnx format (`deploy.json`, `pipeline.json` and `detail.json`)"
   ]
  },
  {
   "cell_type": "code",
   "execution_count": null,
   "id": "79af47b9-ce71-44ed-87e3-522af2ecc6f6",
   "metadata": {
    "tags": []
   },
   "outputs": [],
   "source": [
    "os.makedirs(ONNX_DIR, exist_ok=True)"
   ]
  },
  {
   "cell_type": "code",
   "execution_count": null,
   "id": "a0a6ff83-5c26-4465-88de-fc426c3d993b",
   "metadata": {
    "tags": []
   },
   "outputs": [],
   "source": [
    "CONFIG['config_model'] = cfg_model\n",
    "CONFIG['config_deploy'] = cfg_deploy_path\n",
    "CONFIG['torch_model'] = last_model\n",
    "CONFIG['onnx_model'] = last_model_onnx\n",
    "CONFIG['type_export'] = TYPE_EXPORT\n",
    "CONFIG['test_image_path'] = test_image_path"
   ]
  },
  {
   "cell_type": "code",
   "execution_count": null,
   "id": "3fb0868c-56e0-416d-b0cb-0c246ea93df2",
   "metadata": {},
   "outputs": [],
   "source": [
    "CONFIG['train_config_parameters'][\"Normalize\"] = {'mean': [123.675, 116.28, 103.53],\n",
    "                                                  'std': [58.395, 57.12, 57.375],\n",
    "                                                  'to_rgb': True}"
   ]
  },
  {
   "cell_type": "code",
   "execution_count": null,
   "id": "70f0cd1a-c46f-4fed-afb9-8f39964cc00d",
   "metadata": {
    "tags": []
   },
   "outputs": [],
   "source": [
    "with open(config_fn, 'w') as f_id:\n",
    "    json.dump(CONFIG, f_id, indent=4)"
   ]
  },
  {
   "cell_type": "code",
   "execution_count": null,
   "id": "ca46f535-b1c0-49ac-b8b0-19420fa176e9",
   "metadata": {
    "tags": []
   },
   "outputs": [],
   "source": [
    "# Create SUCCESS file after successful copy\n",
    "Path(osp.join(tmp_outputs.cache_data, '_SUCCESS')).touch()"
   ]
  },
  {
   "cell_type": "code",
   "execution_count": null,
   "id": "c30bb001-eabb-4c91-b4aa-c1a163f4bf7a",
   "metadata": {
    "tags": []
   },
   "outputs": [],
   "source": [
    "#stop spark\n",
    "SinaraSpark.stop_session()"
   ]
  },
  {
   "cell_type": "code",
   "execution_count": null,
   "id": "c6804876-5412-4c35-a9be-424f35c97763",
   "metadata": {},
   "outputs": [],
   "source": []
  }
 ],
 "metadata": {
  "kernelspec": {
   "display_name": "cv",
   "language": "python",
   "name": "cv"
  },
  "language_info": {
   "codemirror_mode": {
    "name": "ipython",
    "version": 3
   },
   "file_extension": ".py",
   "mimetype": "text/x-python",
   "name": "python",
   "nbconvert_exporter": "python",
   "pygments_lexer": "ipython3",
   "version": "3.9.10"
  }
 },
 "nbformat": 4,
 "nbformat_minor": 5
}
