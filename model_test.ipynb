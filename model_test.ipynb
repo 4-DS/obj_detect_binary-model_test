{
 "cells": [
  {
   "cell_type": "code",
   "execution_count": null,
   "id": "b5c2db3c-570a-4520-97f9-e99b7cce1377",
   "metadata": {
    "tags": []
   },
   "outputs": [],
   "source": [
    "%load_ext autoreload\n",
    "%autoreload 2"
   ]
  },
  {
   "cell_type": "code",
   "execution_count": null,
   "id": "4ca2677e-6dbf-49cb-94cf-55ab34553123",
   "metadata": {
    "tags": [
     "parameters"
    ]
   },
   "outputs": [],
   "source": [
    "# specify substep parameters for interactive run\n",
    "# this cell will be replaced during job run with the parameters from json within params subfolder\n",
    "substep_params={\n",
    "}"
   ]
  },
  {
   "cell_type": "code",
   "execution_count": null,
   "id": "f04468dc-4a2c-4ac0-8a9c-b36dc26f9a22",
   "metadata": {
    "tags": []
   },
   "outputs": [],
   "source": [
    "# load pipeline and step parameters - do not edit\n",
    "from sinara.substep import get_pipeline_params, get_step_params\n",
    "pipeline_params = get_pipeline_params(pprint=True)\n",
    "step_params = get_step_params(pprint=True)"
   ]
  },
  {
   "cell_type": "code",
   "execution_count": null,
   "id": "3fa0a075-eca9-4b7a-ab12-457a84f5dbb9",
   "metadata": {
    "tags": []
   },
   "outputs": [],
   "source": [
    "# define substep interface\n",
    "from sinara.substep import NotebookSubstep, ENV_NAME, PIPELINE_NAME, ZONE_NAME, STEP_NAME, RUN_ID, ENTITY_NAME, ENTITY_PATH, SUBSTEP_NAME\n",
    "\n",
    "substep = NotebookSubstep(pipeline_params, step_params, substep_params)\n",
    "\n",
    "substep.interface(\n",
    "    inputs =\n",
    "    [ \n",
    "      { STEP_NAME: \"data_prep\", ENTITY_NAME: \"coco_test_dataset\"}, # dataset for detector testing from data_prep step\n",
    "      { STEP_NAME: \"model_train\", ENTITY_NAME: \"obj_detect_inference_files\"}, # detector files from train step\n",
    "      { STEP_NAME: \"model_pack\", ENTITY_NAME: \"bento_service\"} # bentoservice file from pack step\n",
    "    ],\n",
    "    \n",
    "    tmp_entities =\n",
    "    [\n",
    "        { ENTITY_NAME: \"coco_test_dataset\" },  # ground-true test dataset files for use in next substep\n",
    "        { ENTITY_NAME: \"obj_detect_inference_files\" }, # temporary detector files from train step\n",
    "        { ENTITY_NAME: \"bentoservice_artifacts\" } # stored BentoService\n",
    "    ]\n",
    ")\n",
    "\n",
    "substep.print_interface_info()\n",
    "\n",
    "substep.exit_in_visualize_mode()"
   ]
  },
  {
   "cell_type": "code",
   "execution_count": null,
   "id": "8d85b790-e2cd-4024-911c-fa6699f6951d",
   "metadata": {
    "tags": []
   },
   "outputs": [],
   "source": [
    "import os.path as osp\n",
    "from pathlib import Path\n",
    "import json\n",
    "import torch\n",
    "from sinara.bentoml.utils import compute_md5"
   ]
  },
  {
   "cell_type": "code",
   "execution_count": null,
   "id": "dd68621e-9865-46c1-b083-1a66e87b59a9",
   "metadata": {
    "tags": []
   },
   "outputs": [],
   "source": [
    "# run spark\n",
    "from sinara.spark import SinaraSpark\n",
    "from sinara.archive import SinaraArchive\n",
    "\n",
    "spark = SinaraSpark.run_session(0)\n",
    "SinaraSpark.ui_url()"
   ]
  },
  {
   "cell_type": "markdown",
   "id": "32ea64bc-5c73-4766-b3a0-6bad6c94caf1",
   "metadata": {},
   "source": [
    "### Loading obj_detect_inference_files the model_train step \n",
    "(weights, configs, reference test image)"
   ]
  },
  {
   "cell_type": "code",
   "execution_count": null,
   "id": "a0dcbf36-507e-4709-87b3-ea4fa7253761",
   "metadata": {
    "tags": []
   },
   "outputs": [],
   "source": [
    "inputs = substep.inputs(step_name = \"model_train\")\n",
    "tmp_entities = substep.tmp_entities()\n",
    "\n",
    "archive = SinaraArchive(spark)\n",
    "archive.unpack_files_from_store_to_tmp(store_path=inputs.obj_detect_inference_files, tmp_entity_dir=tmp_entities.obj_detect_inference_files)"
   ]
  },
  {
   "cell_type": "markdown",
   "id": "dba80edf-ab22-4340-9088-9c4fb9159c47",
   "metadata": {},
   "source": [
    "### Loading binary bento_service the model_pack step and extracting artifacts"
   ]
  },
  {
   "cell_type": "code",
   "execution_count": null,
   "id": "7427cf3c-8f27-4c2a-9b49-8932e15b8a9b",
   "metadata": {
    "tags": []
   },
   "outputs": [],
   "source": [
    "from sinara.bentoml import extract_artifacts_from_bentoservice\n",
    "\n",
    "inputs = substep.inputs(step_name = \"model_pack\")\n",
    "\n",
    "artifacts_folder = extract_artifacts_from_bentoservice(inputs.bento_service, tmp_entities.bentoservice_artifacts)\n",
    "print(f'Aftifacts extracted to {artifacts_folder}')"
   ]
  },
  {
   "cell_type": "markdown",
   "id": "9b1c845f-77cd-455a-9a8f-0aa483473435",
   "metadata": {},
   "source": [
    "### Compute hash of the reference test image"
   ]
  },
  {
   "cell_type": "code",
   "execution_count": null,
   "id": "01609fea-41a0-4786-85ac-34df1e52dc3c",
   "metadata": {
    "tags": []
   },
   "outputs": [],
   "source": [
    "reference_test_image_path = Path(tmp_entities.obj_detect_inference_files) / \"test.jpg\"\n",
    "assert reference_test_image_path.exists()\n",
    "reference_test_image_hash = compute_md5(reference_test_image_path)\n",
    "\n",
    "print(f'Reference image hash: {reference_test_image_hash}')"
   ]
  },
  {
   "cell_type": "markdown",
   "id": "1dba953d-69e3-473f-bf41-a81bac5551c4",
   "metadata": {
    "tags": []
   },
   "source": [
    "### Compute hash of the test image extracted from bentoservice"
   ]
  },
  {
   "cell_type": "code",
   "execution_count": null,
   "id": "2060677f-4ae3-451c-8122-af898fd754a7",
   "metadata": {
    "tags": []
   },
   "outputs": [],
   "source": [
    "test_image_path = Path(artifacts_folder) / 'artifacts' / 'test_image.jpg'\n",
    "assert test_image_path.exists()\n",
    "test_image_hash = compute_md5(test_image_path)\n",
    "print(f'Test image hash: {test_image_hash}')"
   ]
  },
  {
   "cell_type": "markdown",
   "id": "1cf193ac-0fe2-4d80-8c79-e34cca51b017",
   "metadata": {},
   "source": [
    "### Check if the test image has been extracted correctly"
   ]
  },
  {
   "cell_type": "code",
   "execution_count": null,
   "id": "aa2133a4-0111-465b-ac29-f7866e02d119",
   "metadata": {
    "tags": []
   },
   "outputs": [],
   "source": [
    "assert reference_test_image_hash == test_image_hash"
   ]
  },
  {
   "cell_type": "markdown",
   "id": "6c8bd723-1304-403f-a965-e506742a59b5",
   "metadata": {},
   "source": [
    "### Check inference test image by model from artifacts of bento_service\n",
    "### and inference test image by model from model_train"
   ]
  },
  {
   "cell_type": "code",
   "execution_count": null,
   "id": "3cacc08b-b7c6-4dd3-a14a-e40a952858b6",
   "metadata": {
    "tags": []
   },
   "outputs": [],
   "source": [
    "from mmdet.apis import init_detector, inference_detector\n",
    "\n",
    "reference_test_image_path = Path(tmp_entities.obj_detect_inference_files) / \"test.jpg\"\n",
    "\n",
    "# build detector from a config file and a checkpoint file from bento_archive\n",
    "detector_from_bento_archive = init_detector(osp.join(artifacts_folder, 'artifacts/mmengine_cfg.py'), \n",
    "                                        osp.join(artifacts_folder, 'artifacts/weigths_pth.pth'), \n",
    "                                        device='cpu')\n",
    "# detector_from_bento_archive on test image\n",
    "detection_result_from_bentoservice = inference_detector(detector_from_bento_archive, [reference_test_image_path])\n",
    "\n",
    "\n",
    "# build the detector from a config file and a checkpoint file from model_train\n",
    "detector_from_inference_files = init_detector(osp.join(tmp_entities.obj_detect_inference_files, 'last_cfg.py'), \n",
    "                                           osp.join(tmp_entities.obj_detect_inference_files, 'latest_checkpoint.pth'), \n",
    "                                           device='cpu')\n",
    "# run detector_from_inference_files on test image\n",
    "detection_result_from_model_train = inference_detector(detector_from_inference_files, [reference_test_image_path])    \n",
    "\n",
    "detection_result_from_bentoservice = detection_result_from_bentoservice[0]\n",
    "detection_result_from_model_train = detection_result_from_model_train[0]"
   ]
  },
  {
   "cell_type": "markdown",
   "id": "7c72dcfc-4923-41b5-8455-1e68ac2d349d",
   "metadata": {
    "tags": []
   },
   "source": [
    "#### Compare results of detection"
   ]
  },
  {
   "cell_type": "code",
   "execution_count": null,
   "id": "ac89b681-2f54-49ed-a7ac-15d2d48ca366",
   "metadata": {
    "tags": []
   },
   "outputs": [],
   "source": [
    "from utils.bb_intersection_over_union import bb_intersection_over_union\n",
    "\n",
    "_success = True\n",
    "\n",
    "try:    \n",
    "    \n",
    "    for bbox_model_train, label_model_train in zip(detection_result_from_model_train.pred_instances.bboxes,\n",
    "                                                   detection_result_from_model_train.pred_instances.labels):\n",
    "        ious = []\n",
    "        for bbox_bento, label_bento in zip(detection_result_from_bentoservice.pred_instances.bboxes,\n",
    "                                           detection_result_from_bentoservice.pred_instances.labels):\n",
    "            if label_model_train != label_bento:  # compare by object class\n",
    "                continue\n",
    "            ious.append(bb_intersection_over_union(bbox_model_train, bbox_bento))\n",
    "            \n",
    "        id_bbox_iou = torch.tensor(ious).argmax()  \n",
    "        if ious[id_bbox_iou] < 0.98:  # no matches by iou     \n",
    "            _success = False\n",
    "            \n",
    "except Exception as e:\n",
    "    print(f\"error: {e.__str__()}\")\n",
    "    _success = False"
   ]
  },
  {
   "cell_type": "code",
   "execution_count": null,
   "id": "cfc15f71-d0cd-4d6d-9e23-fe7b79b8333b",
   "metadata": {
    "tags": []
   },
   "outputs": [],
   "source": [
    "assert _success"
   ]
  },
  {
   "cell_type": "code",
   "execution_count": null,
   "id": "232349f0-6155-49f6-96dc-81053a52e1f9",
   "metadata": {
    "tags": []
   },
   "outputs": [],
   "source": [
    "# Stop spark\n",
    "SinaraSpark.stop_session()"
   ]
  },
  {
   "cell_type": "code",
   "execution_count": null,
   "id": "a0a9a54c-c2e8-451d-adb9-37937fcf371f",
   "metadata": {},
   "outputs": [],
   "source": []
  }
 ],
 "metadata": {
  "kernelspec": {
   "display_name": "cv",
   "language": "python",
   "name": "cv"
  },
  "language_info": {
   "codemirror_mode": {
    "name": "ipython",
    "version": 3
   },
   "file_extension": ".py",
   "mimetype": "text/x-python",
   "name": "python",
   "nbconvert_exporter": "python",
   "pygments_lexer": "ipython3",
   "version": "3.9.10"
  }
 },
 "nbformat": 4,
 "nbformat_minor": 5
}
