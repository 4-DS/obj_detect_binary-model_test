{
 "cells": [
  {
   "cell_type": "code",
   "execution_count": null,
   "id": "b5c2db3c-570a-4520-97f9-e99b7cce1377",
   "metadata": {
    "tags": []
   },
   "outputs": [],
   "source": [
    "%load_ext autoreload\n",
    "%autoreload 2"
   ]
  },
  {
   "cell_type": "markdown",
   "id": "87dc5e05-200e-42fa-8d6d-e64abfe933d6",
   "metadata": {},
   "source": [
    "Declaration of parameters (you must also add a tag for this cell - parameters)"
   ]
  },
  {
   "cell_type": "code",
   "execution_count": null,
   "id": "4ca2677e-6dbf-49cb-94cf-55ab34553123",
   "metadata": {
    "tags": [
     "parameters"
    ]
   },
   "outputs": [],
   "source": [
    "#2. specify parameters\n",
    "pipeline_params={\n",
    "}\n",
    "step_params={\n",
    "}\n",
    "substep_params={   \n",
    "}"
   ]
  },
  {
   "cell_type": "code",
   "execution_count": null,
   "id": "3fa0a075-eca9-4b7a-ab12-457a84f5dbb9",
   "metadata": {},
   "outputs": [],
   "source": [
    "#3 define substep interface\n",
    "from sinara.substep import NotebookSubstep, default_param_values, ENV_NAME, PIPELINE_NAME, ZONE_NAME, STEP_NAME, RUN_ID, ENTITY_NAME, ENTITY_PATH, SUBSTEP_NAME\n",
    "\n",
    "substep = NotebookSubstep(pipeline_params, step_params, substep_params, **default_param_values(\"params/step_params.json\"))\n",
    "\n",
    "substep.interface(\n",
    "    inputs =\n",
    "    [ \n",
    "      { STEP_NAME: \"model_train\", ENTITY_NAME: \"yolox_obj_detector\"}\n",
    "    ],\n",
    "    \n",
    "    tmp_outputs =\n",
    "    [\n",
    "        { ENTITY_NAME: \"yolox_obj_detector\" }\n",
    "    ],\n",
    "    \n",
    "    outputs =\n",
    "    [\n",
    "        { ENTITY_NAME: \"bento_service\" }\n",
    "    ],\n",
    ")\n",
    "\n",
    "substep.print_interface_info()\n",
    "\n",
    "substep.exit_in_visualize_mode()"
   ]
  },
  {
   "cell_type": "markdown",
   "id": "9ba41c95-be55-418d-8a4b-9c55a7740d18",
   "metadata": {
    "tags": []
   },
   "source": [
    "![interface model_pack_interface.drawio](./imgs/model_pack_interface.drawio.png)"
   ]
  },
  {
   "cell_type": "markdown",
   "id": "32ea64bc-5c73-4766-b3a0-6bad6c94caf1",
   "metadata": {},
   "source": [
    "### Loading a trained model from the model_train component \n",
    "(weights, configs)"
   ]
  },
  {
   "cell_type": "code",
   "execution_count": null,
   "id": "2060677f-4ae3-451c-8122-af898fd754a7",
   "metadata": {},
   "outputs": [],
   "source": [
    "from sinara.store import SinaraStore\n",
    "\n",
    "inputs = substep.inputs(step_name = \"model_train\")\n",
    "tmp_outputs = substep.tmp_outputs()\n",
    "# copy config from previos step to outputs\n",
    "SinaraStore.copy_store_files_to_tmp(store_dir=inputs.yolox_obj_detector, tmp_dir=tmp_outputs.yolox_obj_detector)"
   ]
  },
  {
   "cell_type": "code",
   "execution_count": null,
   "id": "ce410312-f0ad-4dc5-ac3a-f57ae401811e",
   "metadata": {},
   "outputs": [],
   "source": [
    "!ls -lh {tmp_outputs.yolox_obj_detector}"
   ]
  },
  {
   "cell_type": "markdown",
   "id": "2cccaf57-5e98-40fd-98d1-e9b6b58c788a",
   "metadata": {},
   "source": [
    "### Reading the configuration file and adding parameters"
   ]
  },
  {
   "cell_type": "code",
   "execution_count": null,
   "id": "6160bb3d-9ef5-4c6e-a7c6-808c7d0dc732",
   "metadata": {},
   "outputs": [],
   "source": [
    "import json\n",
    "import os\n",
    "import os.path as osp\n",
    "config_fn = os.path.join(tmp_outputs.yolox_obj_detector, 'config.json')\n",
    "\n",
    "with open(config_fn) as f_id:\n",
    "    CONFIG = json.load(f_id)"
   ]
  },
  {
   "cell_type": "code",
   "execution_count": null,
   "id": "2bf303a7-7fdf-4c48-b897-2b17a42822ff",
   "metadata": {},
   "outputs": [],
   "source": [
    "CONFIG"
   ]
  },
  {
   "cell_type": "code",
   "execution_count": null,
   "id": "57626deb-c0c2-4a41-8c6d-4dac06f949dd",
   "metadata": {},
   "outputs": [],
   "source": [
    "DEVICE = \"cuda:0\"\n",
    "MODEL_NAME = CONFIG[\"train_config_parameters\"][\"MODEL_NAME\"]\n",
    "CONFIG['work_dir'] = tmp_outputs.yolox_obj_detector\n",
    "WORK_DIR = CONFIG['work_dir']\n",
    "CONFIG['device'] = DEVICE\n",
    "\n",
    "test_image_path = osp.join(tmp_outputs.yolox_obj_detector, \"test.jpg\")\n",
    "assert osp.exists(test_image_path)"
   ]
  },
  {
   "cell_type": "markdown",
   "id": "a2d21a34-ec9e-477b-9253-6eefc58fc4a4",
   "metadata": {},
   "source": [
    "Selecting a weights file to convert to onnx format (best, latest epoch, etc.)"
   ]
  },
  {
   "cell_type": "code",
   "execution_count": null,
   "id": "ae96ad73-dabb-478c-a2d1-488f78b77761",
   "metadata": {},
   "outputs": [],
   "source": [
    "# Select model files\n",
    "model_path = tmp_outputs.yolox_obj_detector\n",
    "save_best  = False\n",
    "files = [osp.join(model_path, file) for file in os.listdir(model_path)]\n",
    "\n",
    "models_pth  = [file for file in files if '.pth' in file and not os.path.islink(file)]\n",
    "best_models = [file for file in models_pth if 'best' in file]\n",
    "latest_models = [file for file in models_pth if 'latest' in file]\n",
    "\n",
    "assert len(best_models), 'model have not pth files.'\n",
    "\n",
    "if save_best and len(best_models) > 0:\n",
    "    models_pth = best_models\n",
    "else:\n",
    "    models_pth = latest_models\n",
    "    \n",
    "models_pth.sort(key=lambda file: osp.getmtime(file))\n",
    "\n",
    "select_model = models_pth[-1]\n",
    "cfg_model = osp.join(CONFIG['work_dir'], \"last_cfg.py\")\n",
    "\n",
    "print(f\"{select_model=}\")"
   ]
  },
  {
   "cell_type": "code",
   "execution_count": null,
   "id": "5ed5dd28-4335-4d6b-bd75-399becaa649a",
   "metadata": {},
   "outputs": [],
   "source": [
    "CONFIG['config_model'] = cfg_model\n",
    "CONFIG['torch_model'] = select_model\n",
    "CONFIG['test_image_path'] = test_image_path"
   ]
  },
  {
   "cell_type": "code",
   "execution_count": null,
   "id": "647fe36e-bea6-4cda-9520-b06fc2a5fdd7",
   "metadata": {},
   "outputs": [],
   "source": [
    "with open(config_fn, 'w') as f_id:\n",
    "    json.dump(CONFIG, f_id, indent=4)"
   ]
  },
  {
   "cell_type": "markdown",
   "id": "d53b16e9-35a5-4a58-99be-7fe3c7ae448d",
   "metadata": {},
   "source": [
    "## Pack binary  model to bentoservice"
   ]
  },
  {
   "cell_type": "code",
   "execution_count": null,
   "id": "8ee2a5e4-577f-446e-b812-56bfd9e68a4b",
   "metadata": {},
   "outputs": [],
   "source": [
    "from sinara.bentoml import save_bentoservice, load_bentoservice"
   ]
  },
  {
   "cell_type": "code",
   "execution_count": null,
   "id": "5fcc1aed-9989-4ef0-bb94-51be728ba4c6",
   "metadata": {
    "tags": []
   },
   "outputs": [],
   "source": [
    "# Clean model weiths - delete data of optimizer\n",
    "import torch\n",
    "\n",
    "state_dict = torch.load(CONFIG['torch_model'], map_location=torch.device('cpu'))\n",
    "\n",
    "print(f\"{state_dict.keys()=}\")\n",
    "if \"optimizer\" in state_dict:\n",
    "    del state_dict[\"optimizer\"]\n",
    "    \n",
    "clean_filename = osp.splitext(CONFIG['torch_model'])[0]+\"_clean.pth\"\n",
    "torch.save(state_dict, clean_filename)"
   ]
  },
  {
   "cell_type": "code",
   "execution_count": null,
   "id": "6cec01c4-b15f-4fdf-b962-0085c1013e4b",
   "metadata": {},
   "outputs": [],
   "source": [
    "from bento_service import Model_YOLOX_Pack\n",
    "\n",
    "outputs = substep.outputs()\n",
    "\n",
    "# initialize bento service\n",
    "model_service = Model_YOLOX_Pack()\n",
    "model_service.pack('model_name', MODEL_NAME)\n",
    "serv_v = f\"{outputs.fullname('bento_service')}.{substep.run_id}\"\n",
    "model_service.pack('service_version', serv_v)\n",
    "\n",
    "# get model weights as binary file for bento_artifact\n",
    "with open(clean_filename, \"rb\") as f_id:\n",
    "    f_model = f_id.read()\n",
    "    \n",
    "# get model config as binary file for bento_artifact\n",
    "with open(CONFIG['config_model'], \"rb\") as f_id:\n",
    "    f_config = f_id.read()\n",
    "    \n",
    "model_service.pack('model', f_model)\n",
    "model_service.pack('config', f_config)\n",
    "\n",
    "# get test image as binary file for bento_artifact\n",
    "with open(test_image_path, \"rb\") as f_id:\n",
    "    f_test_image = f_id.read()\n",
    "    \n",
    "model_service.pack('test_image', f_test_image)"
   ]
  },
  {
   "cell_type": "code",
   "execution_count": null,
   "id": "4b9fe07f-fcd5-4d03-886b-dbdf4b60db64",
   "metadata": {},
   "outputs": [],
   "source": [
    "# save model as a bento pack\n",
    "save_bentoservice(model_service, path=outputs.bento_service, service_version=serv_v)"
   ]
  }
 ],
 "metadata": {
  "kernelspec": {
   "display_name": "Python 3 (ipykernel)",
   "language": "python",
   "name": "python3"
  },
  "language_info": {
   "codemirror_mode": {
    "name": "ipython",
    "version": 3
   },
   "file_extension": ".py",
   "mimetype": "text/x-python",
   "name": "python",
   "nbconvert_exporter": "python",
   "pygments_lexer": "ipython3",
   "version": "3.10.9"
  }
 },
 "nbformat": 4,
 "nbformat_minor": 5
}
