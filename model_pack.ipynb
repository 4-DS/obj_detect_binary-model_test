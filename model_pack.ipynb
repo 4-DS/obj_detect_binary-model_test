{
 "cells": [
  {
   "cell_type": "code",
   "execution_count": 1,
   "id": "b5c2db3c-570a-4520-97f9-e99b7cce1377",
   "metadata": {
    "tags": []
   },
   "outputs": [],
   "source": [
    "%load_ext autoreload\n",
    "%autoreload 2"
   ]
  },
  {
   "cell_type": "markdown",
   "id": "87dc5e05-200e-42fa-8d6d-e64abfe933d6",
   "metadata": {},
   "source": [
    "Declaration of parameters (you must also add a tag for this cell - parameters)"
   ]
  },
  {
   "cell_type": "code",
   "execution_count": 2,
   "id": "4ca2677e-6dbf-49cb-94cf-55ab34553123",
   "metadata": {
    "tags": [
     "parameters"
    ]
   },
   "outputs": [],
   "source": [
    "#2. specify parameters\n",
    "pipeline_params={\n",
    "}\n",
    "step_params={\n",
    "}\n",
    "substep_params={   \n",
    "}"
   ]
  },
  {
   "cell_type": "code",
   "execution_count": 3,
   "id": "3fa0a075-eca9-4b7a-ab12-457a84f5dbb9",
   "metadata": {},
   "outputs": [
    {
     "data": {
      "text/markdown": [
       "**INPUTS:**\n"
      ],
      "text/plain": [
       "<IPython.core.display.Markdown object>"
      ]
     },
     "metadata": {},
     "output_type": "display_data"
    },
    {
     "name": "stdout",
     "output_type": "stream",
     "text": [
      "[{'user.yolox_mmdet.test.model_train.model': '/data/home/jovyan/yolox_mmdet/test/model_train/run-23-10-26-230211/model'}]\n",
      "\n",
      "\n"
     ]
    },
    {
     "data": {
      "text/markdown": [
       "**OUTPUTS:**\n"
      ],
      "text/plain": [
       "<IPython.core.display.Markdown object>"
      ]
     },
     "metadata": {},
     "output_type": "display_data"
    },
    {
     "name": "stdout",
     "output_type": "stream",
     "text": [
      "[{'user.yolox_mmdet.test.model_pack.bento_service': '/data/home/jovyan/yolox_mmdet/test/model_pack/run-23-10-27-073148/bento_service'}]\n",
      "\n",
      "\n"
     ]
    },
    {
     "data": {
      "text/markdown": [
       "**TMP OUTPUTS:**\n"
      ],
      "text/plain": [
       "<IPython.core.display.Markdown object>"
      ]
     },
     "metadata": {},
     "output_type": "display_data"
    },
    {
     "name": "stdout",
     "output_type": "stream",
     "text": [
      "[{'tmp:user.yolox_mmdet.test.model_pack.model': '/data/tmp/user/yolox_mmdet/test/model_pack/run-23-10-27-073148/model'}]\n",
      "\n",
      "\n"
     ]
    }
   ],
   "source": [
    "#3 define substep interface\n",
    "from sinara.substep import NotebookSubstep, default_param_values, ENV_NAME, PIPELINE_NAME, ZONE_NAME, STEP_NAME, RUN_ID, ENTITY_NAME, ENTITY_PATH, SUBSTEP_NAME\n",
    "\n",
    "substep = NotebookSubstep(pipeline_params, step_params, substep_params, **default_param_values(\"params/step_params.json\"))\n",
    "\n",
    "substep.interface(\n",
    "    inputs =\n",
    "    [ \n",
    "      { STEP_NAME: \"model_train\", ENTITY_NAME: \"model\"}\n",
    "    ],\n",
    "    \n",
    "    tmp_outputs =\n",
    "    [\n",
    "        { ENTITY_NAME: \"model\" }\n",
    "    ],\n",
    "    \n",
    "    outputs =\n",
    "    [\n",
    "        { ENTITY_NAME: \"bento_service\" }\n",
    "    ],\n",
    ")\n",
    "\n",
    "substep.print_interface_info()\n",
    "\n",
    "substep.exit_in_visualize_mode()"
   ]
  },
  {
   "cell_type": "markdown",
   "id": "9ba41c95-be55-418d-8a4b-9c55a7740d18",
   "metadata": {
    "tags": []
   },
   "source": [
    "![interface model_pack_interface.drawio](./imgs/model_pack_interface.drawio.png)"
   ]
  },
  {
   "cell_type": "code",
   "execution_count": 4,
   "id": "cbdb0d19-9aca-4bb3-bc52-7be1b2964305",
   "metadata": {},
   "outputs": [
    {
     "name": "stdout",
     "output_type": "stream",
     "text": [
      "inputs.model='/data/home/jovyan/yolox_mmdet/test/model_train/run-23-10-26-230211/model'\n",
      "tmp_outputs.model='/data/tmp/user/yolox_mmdet/test/model_pack/run-23-10-27-073148/model'\n",
      "outputs.bento_service='/data/home/jovyan/yolox_mmdet/test/model_pack/run-23-10-27-073148/bento_service'\n"
     ]
    }
   ],
   "source": [
    "#4 get substep.interface\n",
    "inputs = substep.inputs(step_name = \"model_train\")\n",
    "tmp_outputs = substep.tmp_outputs()\n",
    "outputs = substep.outputs()\n",
    "\n",
    "print(f\"{inputs.model=}\")\n",
    "\n",
    "print(f\"{tmp_outputs.model=}\")\n",
    "\n",
    "print(f\"{outputs.bento_service=}\")"
   ]
  },
  {
   "cell_type": "code",
   "execution_count": 5,
   "id": "3c0ae301-425d-4fc4-919f-b7f1f54dfa0b",
   "metadata": {},
   "outputs": [
    {
     "name": "stdout",
     "output_type": "stream",
     "text": [
      "Session is run\n"
     ]
    },
    {
     "name": "stderr",
     "output_type": "stream",
     "text": [
      "Setting default log level to \"WARN\".\n",
      "To adjust logging level use sc.setLogLevel(newLevel). For SparkR, use setLogLevel(newLevel).\n",
      "23/10/27 07:31:49 WARN NativeCodeLoader: Unable to load native-hadoop library for your platform... using builtin-java classes where applicable\n"
     ]
    },
    {
     "data": {
      "text/plain": [
       "'http://localhost:4040'"
      ]
     },
     "execution_count": 5,
     "metadata": {},
     "output_type": "execute_result"
    }
   ],
   "source": [
    "#5 run spark\n",
    "from sinara.spark import SinaraSpark\n",
    "\n",
    "spark = SinaraSpark.run_session(0)\n",
    "SinaraSpark.ui_url()"
   ]
  },
  {
   "cell_type": "markdown",
   "id": "32ea64bc-5c73-4766-b3a0-6bad6c94caf1",
   "metadata": {},
   "source": [
    "### Loading a trained model from the model_train component \n",
    "(weights, configs)"
   ]
  },
  {
   "cell_type": "code",
   "execution_count": 6,
   "id": "2060677f-4ae3-451c-8122-af898fd754a7",
   "metadata": {},
   "outputs": [],
   "source": [
    "from sinara.store import SinaraStore\n",
    "\n",
    "# copy config from previos step to outputs\n",
    "SinaraStore.copy_store_files_to_tmp(store_dir=inputs.model, tmp_dir=tmp_outputs.model)"
   ]
  },
  {
   "cell_type": "code",
   "execution_count": 7,
   "id": "ce410312-f0ad-4dc5-ac3a-f57ae401811e",
   "metadata": {},
   "outputs": [
    {
     "name": "stdout",
     "output_type": "stream",
     "text": [
      "total 279M\n",
      "-rw-r----- 1 jovyan users 138M Oct 27 07:31 best_bbox_mAP_epoch_5.pth\n",
      "-rw-r----- 1 jovyan users 1.2K Oct 27 07:31 config.json\n",
      "-rw-r----- 1 jovyan users 7.1K Oct 27 07:31 last_cfg.py\n",
      "-rw-r----- 1 jovyan users 138M Oct 27 07:31 latest.pth\n",
      "-rw-r----- 1 jovyan users    0 Oct 27 07:31 _SUCCESS\n",
      "-rw-r----- 1 jovyan users 109K Oct 27 07:31 test.jpg\n"
     ]
    }
   ],
   "source": [
    "!ls -lh {tmp_outputs.model}"
   ]
  },
  {
   "cell_type": "markdown",
   "id": "2cccaf57-5e98-40fd-98d1-e9b6b58c788a",
   "metadata": {},
   "source": [
    "### Reading the configuration file and adding parameters"
   ]
  },
  {
   "cell_type": "code",
   "execution_count": 8,
   "id": "6160bb3d-9ef5-4c6e-a7c6-808c7d0dc732",
   "metadata": {},
   "outputs": [],
   "source": [
    "import json\n",
    "import os\n",
    "import os.path as osp\n",
    "config_fn = os.path.join(tmp_outputs.model, 'config.json')\n",
    "\n",
    "with open(config_fn) as f_id:\n",
    "    CONFIG = json.load(f_id)"
   ]
  },
  {
   "cell_type": "code",
   "execution_count": 9,
   "id": "2bf303a7-7fdf-4c48-b897-2b17a42822ff",
   "metadata": {},
   "outputs": [
    {
     "data": {
      "text/plain": [
       "{'FILTER_EMPTY_GT': False,\n",
       " 'MIN_OBJECT_SIZE': 5,\n",
       " 'train_coco_annotation': 'train_coco_annotations.json',\n",
       " 'val_coco_annotation': 'val_coco_annotations.json',\n",
       " 'test_coco_annotation': 'test_coco_annotations.json',\n",
       " 'train_images': 'train_data',\n",
       " 'val_images': 'eval_data',\n",
       " 'test_images': 'test_data',\n",
       " 'CLASSES': ['person', 'bicycle', 'car', 'motorcycle', 'bus', 'truck'],\n",
       " 'train_config_parameters': {'MAX_SIZE': 640,\n",
       "  'BATCH': 8,\n",
       "  'WORKERS': 0,\n",
       "  'SEED': 42,\n",
       "  'EPOCH_COUNT': 5,\n",
       "  'MODEL_NAME': 'yolox_s',\n",
       "  'optimizer_lr': 0.001,\n",
       "  'pretrain_weights': 'https://download.openmmlab.com/mmdetection/v2.0/yolox/yolox_s_8x8_300e_coco/yolox_s_8x8_300e_coco_20211121_095711-4592a793.pth',\n",
       "  'Normalize': {'mean': [123.675, 116.28, 103.53],\n",
       "   'std': [58.395, 57.12, 57.375],\n",
       "   'to_rgb': True}},\n",
       " 'config_file': 'last_cfg.py'}"
      ]
     },
     "execution_count": 9,
     "metadata": {},
     "output_type": "execute_result"
    }
   ],
   "source": [
    "CONFIG"
   ]
  },
  {
   "cell_type": "code",
   "execution_count": 10,
   "id": "57626deb-c0c2-4a41-8c6d-4dac06f949dd",
   "metadata": {},
   "outputs": [],
   "source": [
    "DEVICE = \"cuda:0\"\n",
    "MODEL_NAME = CONFIG[\"train_config_parameters\"][\"MODEL_NAME\"]\n",
    "CONFIG['work_dir'] = tmp_outputs.model\n",
    "WORK_DIR = CONFIG['work_dir']\n",
    "CONFIG['device'] = DEVICE\n",
    "\n",
    "test_image_path = osp.join(tmp_outputs.model, \"test.jpg\")\n",
    "assert osp.exists(test_image_path)"
   ]
  },
  {
   "cell_type": "markdown",
   "id": "a2d21a34-ec9e-477b-9253-6eefc58fc4a4",
   "metadata": {},
   "source": [
    "Selecting a weights file to convert to onnx format (best, latest epoch, etc.)"
   ]
  },
  {
   "cell_type": "code",
   "execution_count": 11,
   "id": "ae96ad73-dabb-478c-a2d1-488f78b77761",
   "metadata": {},
   "outputs": [
    {
     "name": "stdout",
     "output_type": "stream",
     "text": [
      "select_model='/data/tmp/user/yolox_mmdet/test/model_pack/run-23-10-27-073148/model/latest.pth'\n"
     ]
    }
   ],
   "source": [
    "# Select model files\n",
    "model_path = tmp_outputs.model\n",
    "save_best  = False\n",
    "files = [osp.join(model_path, file) for file in os.listdir(model_path)]\n",
    "\n",
    "models_pth  = [file for file in files if '.pth' in file and not os.path.islink(file)]\n",
    "best_models = [file for file in models_pth if 'best' in file]\n",
    "latest_models = [file for file in models_pth if 'latest' in file]\n",
    "\n",
    "assert len(best_models), 'model have not pth files.'\n",
    "\n",
    "if save_best and len(best_models) > 0:\n",
    "    models_pth = best_models\n",
    "else:\n",
    "    models_pth = latest_models\n",
    "    \n",
    "models_pth.sort(key=lambda file: osp.getmtime(file))\n",
    "\n",
    "select_model = models_pth[-1]\n",
    "cfg_model = osp.join(CONFIG['work_dir'], \"last_cfg.py\")\n",
    "\n",
    "print(f\"{select_model=}\")"
   ]
  },
  {
   "cell_type": "code",
   "execution_count": 12,
   "id": "5ed5dd28-4335-4d6b-bd75-399becaa649a",
   "metadata": {},
   "outputs": [],
   "source": [
    "CONFIG['config_model'] = cfg_model\n",
    "CONFIG['torch_model'] = select_model\n",
    "CONFIG['test_image_path'] = test_image_path"
   ]
  },
  {
   "cell_type": "code",
   "execution_count": 13,
   "id": "647fe36e-bea6-4cda-9520-b06fc2a5fdd7",
   "metadata": {},
   "outputs": [],
   "source": [
    "with open(config_fn, 'w') as f_id:\n",
    "    json.dump(CONFIG, f_id, indent=4)"
   ]
  },
  {
   "cell_type": "markdown",
   "id": "d53b16e9-35a5-4a58-99be-7fe3c7ae448d",
   "metadata": {},
   "source": [
    "## Pack binary  model to bentoservice"
   ]
  },
  {
   "cell_type": "code",
   "execution_count": 14,
   "id": "8ee2a5e4-577f-446e-b812-56bfd9e68a4b",
   "metadata": {},
   "outputs": [],
   "source": [
    "from sinara.bentoml import save_bentoservice, load_bentoservice"
   ]
  },
  {
   "cell_type": "code",
   "execution_count": 26,
   "id": "5fcc1aed-9989-4ef0-bb94-51be728ba4c6",
   "metadata": {
    "tags": []
   },
   "outputs": [
    {
     "name": "stdout",
     "output_type": "stream",
     "text": [
      "state_dict.keys()=dict_keys(['meta', 'state_dict', 'optimizer'])\n"
     ]
    }
   ],
   "source": [
    "# Clean model weiths - delete data of optimizer\n",
    "import torch\n",
    "\n",
    "state_dict = torch.load(CONFIG['torch_model'], map_location=torch.device('cpu'))\n",
    "\n",
    "print(f\"{state_dict.keys()=}\")\n",
    "if \"optimizer\" in state_dict:\n",
    "    del state_dict[\"optimizer\"]\n",
    "    \n",
    "clean_filename = osp.splitext(CONFIG['torch_model'])[0]+\"_clean.pth\"\n",
    "torch.save(state_dict, clean_filename)"
   ]
  },
  {
   "cell_type": "code",
   "execution_count": 30,
   "id": "6cec01c4-b15f-4fdf-b962-0085c1013e4b",
   "metadata": {},
   "outputs": [
    {
     "data": {
      "text/plain": [
       "<bento_service.Model_YOLOX_Pack at 0x7f578a903940>"
      ]
     },
     "execution_count": 30,
     "metadata": {},
     "output_type": "execute_result"
    }
   ],
   "source": [
    "from bento_service import Model_YOLOX_Pack\n",
    "    \n",
    "# initialize bento service\n",
    "model_service = Model_YOLOX_Pack()\n",
    "model_service.pack('model_name', MODEL_NAME)\n",
    "serv_v = f\"{outputs.fullname('bento_service')}.{substep.run_id}\"\n",
    "model_service.pack('service_version', serv_v)\n",
    "\n",
    "# get model weights as binary file for bento_artifact\n",
    "with open(clean_filename, \"rb\") as f_id:\n",
    "    f_model = f_id.read()\n",
    "    \n",
    "# get model config as binary file for bento_artifact\n",
    "with open(CONFIG['config_model'], \"rb\") as f_id:\n",
    "    f_config = f_id.read()\n",
    "    \n",
    "model_service.pack('model', f_model)\n",
    "model_service.pack('config', f_config)\n",
    "\n",
    "# get test image as binary file for bento_artifact\n",
    "with open(test_image_path, \"rb\") as f_id:\n",
    "    f_test_image = f_id.read()\n",
    "    \n",
    "model_service.pack('test_image', f_test_image)"
   ]
  },
  {
   "cell_type": "code",
   "execution_count": 31,
   "id": "4b9fe07f-fcd5-4d03-886b-dbdf4b60db64",
   "metadata": {},
   "outputs": [
    {
     "name": "stdout",
     "output_type": "stream",
     "text": [
      "[2023-10-27 07:47:29,139] WARNING - unknown package dependency for module: sinara\n",
      "[2023-10-27 07:47:29,165] INFO - BentoService bundle 'Model_YOLOX_Pack:user.yolox_mmdet.test.model_pack.bento_service.run-23-10-27-073148' created at: /home/jovyan/work/yolox_mmdet/3_model_pack/tmp/run-23-10-27-073148/bento_service\n"
     ]
    }
   ],
   "source": [
    "# save model as a bento pack\n",
    "save_bentoservice(model_service, path=outputs.bento_service, service_version=serv_v)"
   ]
  },
  {
   "cell_type": "code",
   "execution_count": 32,
   "id": "745f8c86-146a-4807-b988-30fcea2b5d69",
   "metadata": {},
   "outputs": [],
   "source": [
    "#stop spark\n",
    "SinaraSpark.stop_session()"
   ]
  },
  {
   "cell_type": "code",
   "execution_count": null,
   "id": "d8fb1343-3505-4473-a577-1f0828bd0208",
   "metadata": {},
   "outputs": [],
   "source": []
  }
 ],
 "metadata": {
  "kernelspec": {
   "display_name": "cv",
   "language": "python",
   "name": "cv"
  },
  "language_info": {
   "codemirror_mode": {
    "name": "ipython",
    "version": 3
   },
   "file_extension": ".py",
   "mimetype": "text/x-python",
   "name": "python",
   "nbconvert_exporter": "python",
   "pygments_lexer": "ipython3",
   "version": "3.9.10"
  }
 },
 "nbformat": 4,
 "nbformat_minor": 5
}
