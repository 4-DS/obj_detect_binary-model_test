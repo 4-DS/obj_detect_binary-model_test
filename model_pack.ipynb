{
 "cells": [
  {
   "cell_type": "code",
   "execution_count": 1,
   "id": "b5c2db3c-570a-4520-97f9-e99b7cce1377",
   "metadata": {
    "tags": []
   },
   "outputs": [],
   "source": [
    "%load_ext autoreload\n",
    "%autoreload 2"
   ]
  },
  {
   "cell_type": "markdown",
   "id": "87dc5e05-200e-42fa-8d6d-e64abfe933d6",
   "metadata": {},
   "source": [
    "Declaration of parameters (you must also add a tag for this cell - parameters)"
   ]
  },
  {
   "cell_type": "code",
   "execution_count": 2,
   "id": "4ca2677e-6dbf-49cb-94cf-55ab34553123",
   "metadata": {
    "tags": [
     "parameters"
    ]
   },
   "outputs": [],
   "source": [
    "#2. specify parameters\n",
    "pipeline_params={\n",
    "}\n",
    "step_params={\n",
    "}\n",
    "substep_params={   \n",
    "}"
   ]
  },
  {
   "cell_type": "code",
   "execution_count": 3,
   "id": "3fa0a075-eca9-4b7a-ab12-457a84f5dbb9",
   "metadata": {},
   "outputs": [
    {
     "data": {
      "text/markdown": [
       "**INPUTS:**\n"
      ],
      "text/plain": [
       "<IPython.core.display.Markdown object>"
      ]
     },
     "metadata": {},
     "output_type": "display_data"
    },
    {
     "name": "stdout",
     "output_type": "stream",
     "text": [
      "[{'user.yolox_mmdet.test.model_train.model': '/data/home/jovyan/yolox_mmdet/test/model_train/run-23-10-26-230211/model'}]\n",
      "\n",
      "\n"
     ]
    },
    {
     "data": {
      "text/markdown": [
       "**OUTPUTS:**\n"
      ],
      "text/plain": [
       "<IPython.core.display.Markdown object>"
      ]
     },
     "metadata": {},
     "output_type": "display_data"
    },
    {
     "name": "stdout",
     "output_type": "stream",
     "text": [
      "[{'user.yolox_mmdet.test.model_pack.bento_service': '/data/home/jovyan/yolox_mmdet/test/model_pack/run-23-10-27-073148/bento_service'}]\n",
      "\n",
      "\n"
     ]
    },
    {
     "data": {
      "text/markdown": [
       "**TMP OUTPUTS:**\n"
      ],
      "text/plain": [
       "<IPython.core.display.Markdown object>"
      ]
     },
     "metadata": {},
     "output_type": "display_data"
    },
    {
     "name": "stdout",
     "output_type": "stream",
     "text": [
      "[{'tmp:user.yolox_mmdet.test.model_pack.model': '/data/tmp/user/yolox_mmdet/test/model_pack/run-23-10-27-073148/model'}]\n",
      "\n",
      "\n"
     ]
    }
   ],
   "source": [
    "#3 define substep interface\n",
    "from sinara.substep import NotebookSubstep, default_param_values, ENV_NAME, PIPELINE_NAME, ZONE_NAME, STEP_NAME, RUN_ID, ENTITY_NAME, ENTITY_PATH, SUBSTEP_NAME\n",
    "\n",
    "substep = NotebookSubstep(pipeline_params, step_params, substep_params, **default_param_values(\"params/step_params.json\"))\n",
    "\n",
    "substep.interface(\n",
    "    inputs =\n",
    "    [ \n",
    "      { STEP_NAME: \"model_train\", ENTITY_NAME: \"model\"}\n",
    "    ],\n",
    "    \n",
    "    tmp_outputs =\n",
    "    [\n",
    "        { ENTITY_NAME: \"model\" }\n",
    "    ],\n",
    "    \n",
    "    outputs =\n",
    "    [\n",
    "        { ENTITY_NAME: \"bento_service\" }\n",
    "    ],\n",
    ")\n",
    "\n",
    "substep.print_interface_info()\n",
    "\n",
    "substep.exit_in_visualize_mode()"
   ]
  },
  {
   "cell_type": "markdown",
   "id": "9ba41c95-be55-418d-8a4b-9c55a7740d18",
   "metadata": {
    "tags": []
   },
   "source": [
    "![interface model_pack_interface.drawio](./imgs/model_pack_interface.drawio.png)"
   ]
  },
  {
   "cell_type": "code",
   "execution_count": 4,
   "id": "cbdb0d19-9aca-4bb3-bc52-7be1b2964305",
   "metadata": {},
   "outputs": [
    {
     "name": "stdout",
     "output_type": "stream",
     "text": [
      "inputs.model='/data/home/jovyan/yolox_mmdet/test/model_train/run-23-10-26-230211/model'\n",
      "tmp_outputs.model='/data/tmp/user/yolox_mmdet/test/model_pack/run-23-10-27-073148/model'\n",
      "outputs.bento_service='/data/home/jovyan/yolox_mmdet/test/model_pack/run-23-10-27-073148/bento_service'\n"
     ]
    }
   ],
   "source": [
    "#4 get substep.interface\n",
    "inputs = substep.inputs(step_name = \"model_train\")\n",
    "tmp_outputs = substep.tmp_outputs()\n",
    "outputs = substep.outputs()\n",
    "\n",
    "print(f\"{inputs.model=}\")\n",
    "\n",
    "print(f\"{tmp_outputs.model=}\")\n",
    "\n",
    "print(f\"{outputs.bento_service=}\")"
   ]
  },
  {
   "cell_type": "code",
   "execution_count": 5,
   "id": "3c0ae301-425d-4fc4-919f-b7f1f54dfa0b",
   "metadata": {},
   "outputs": [
    {
     "name": "stdout",
     "output_type": "stream",
     "text": [
      "Session is run\n"
     ]
    },
    {
     "name": "stderr",
     "output_type": "stream",
     "text": [
      "Setting default log level to \"WARN\".\n",
      "To adjust logging level use sc.setLogLevel(newLevel). For SparkR, use setLogLevel(newLevel).\n",
      "23/10/27 07:31:49 WARN NativeCodeLoader: Unable to load native-hadoop library for your platform... using builtin-java classes where applicable\n"
     ]
    },
    {
     "data": {
      "text/plain": [
       "'http://localhost:4040'"
      ]
     },
     "execution_count": 5,
     "metadata": {},
     "output_type": "execute_result"
    }
   ],
   "source": [
    "#5 run spark\n",
    "from sinara.spark import SinaraSpark\n",
    "\n",
    "spark = SinaraSpark.run_session(0)\n",
    "SinaraSpark.ui_url()"
   ]
  },
  {
   "cell_type": "markdown",
   "id": "32ea64bc-5c73-4766-b3a0-6bad6c94caf1",
   "metadata": {},
   "source": [
    "### Loading a trained model from the model_train component \n",
    "(weights, configs)"
   ]
  },
  {
   "cell_type": "code",
   "execution_count": 6,
   "id": "2060677f-4ae3-451c-8122-af898fd754a7",
   "metadata": {},
   "outputs": [],
   "source": [
    "from sinara.store import SinaraStore\n",
    "\n",
    "# copy config from previos step to outputs\n",
    "SinaraStore.copy_store_files_to_tmp(store_dir=inputs.model, tmp_dir=tmp_outputs.model)"
   ]
  },
  {
   "cell_type": "code",
   "execution_count": 7,
   "id": "ce410312-f0ad-4dc5-ac3a-f57ae401811e",
   "metadata": {},
   "outputs": [
    {
     "name": "stdout",
     "output_type": "stream",
     "text": [
      "total 279M\n",
      "-rw-r----- 1 jovyan users 138M Oct 27 07:31 best_bbox_mAP_epoch_5.pth\n",
      "-rw-r----- 1 jovyan users 1.2K Oct 27 07:31 config.json\n",
      "-rw-r----- 1 jovyan users 7.1K Oct 27 07:31 last_cfg.py\n",
      "-rw-r----- 1 jovyan users 138M Oct 27 07:31 latest.pth\n",
      "-rw-r----- 1 jovyan users    0 Oct 27 07:31 _SUCCESS\n",
      "-rw-r----- 1 jovyan users 109K Oct 27 07:31 test.jpg\n"
     ]
    }
   ],
   "source": [
    "!ls -lh {tmp_outputs.model}"
   ]
  },
  {
   "cell_type": "markdown",
   "id": "2cccaf57-5e98-40fd-98d1-e9b6b58c788a",
   "metadata": {},
   "source": [
    "### Reading the configuration file and adding parameters"
   ]
  },
  {
   "cell_type": "code",
   "execution_count": 8,
   "id": "6160bb3d-9ef5-4c6e-a7c6-808c7d0dc732",
   "metadata": {},
   "outputs": [],
   "source": [
    "import json\n",
    "import os\n",
    "import os.path as osp\n",
    "config_fn = os.path.join(tmp_outputs.model, 'config.json')\n",
    "\n",
    "with open(config_fn) as f_id:\n",
    "    CONFIG = json.load(f_id)"
   ]
  },
  {
   "cell_type": "code",
   "execution_count": 9,
   "id": "2bf303a7-7fdf-4c48-b897-2b17a42822ff",
   "metadata": {},
   "outputs": [
    {
     "data": {
      "text/plain": [
       "{'FILTER_EMPTY_GT': False,\n",
       " 'MIN_OBJECT_SIZE': 5,\n",
       " 'train_coco_annotation': 'train_coco_annotations.json',\n",
       " 'val_coco_annotation': 'val_coco_annotations.json',\n",
       " 'test_coco_annotation': 'test_coco_annotations.json',\n",
       " 'train_images': 'train_data',\n",
       " 'val_images': 'eval_data',\n",
       " 'test_images': 'test_data',\n",
       " 'CLASSES': ['person', 'bicycle', 'car', 'motorcycle', 'bus', 'truck'],\n",
       " 'train_config_parameters': {'MAX_SIZE': 640,\n",
       "  'BATCH': 8,\n",
       "  'WORKERS': 0,\n",
       "  'SEED': 42,\n",
       "  'EPOCH_COUNT': 5,\n",
       "  'MODEL_NAME': 'yolox_s',\n",
       "  'optimizer_lr': 0.001,\n",
       "  'pretrain_weights': 'https://download.openmmlab.com/mmdetection/v2.0/yolox/yolox_s_8x8_300e_coco/yolox_s_8x8_300e_coco_20211121_095711-4592a793.pth',\n",
       "  'Normalize': {'mean': [123.675, 116.28, 103.53],\n",
       "   'std': [58.395, 57.12, 57.375],\n",
       "   'to_rgb': True}},\n",
       " 'config_file': 'last_cfg.py'}"
      ]
     },
     "execution_count": 9,
     "metadata": {},
     "output_type": "execute_result"
    }
   ],
   "source": [
    "CONFIG"
   ]
  },
  {
   "cell_type": "code",
   "execution_count": 10,
   "id": "57626deb-c0c2-4a41-8c6d-4dac06f949dd",
   "metadata": {},
   "outputs": [],
   "source": [
    "DEVICE = \"cuda:0\"\n",
    "MODEL_NAME = CONFIG[\"train_config_parameters\"][\"MODEL_NAME\"]\n",
    "CONFIG['work_dir'] = tmp_outputs.model\n",
    "WORK_DIR = CONFIG['work_dir']\n",
    "CONFIG['device'] = DEVICE\n",
    "\n",
    "test_image_path = osp.join(tmp_outputs.model, \"test.jpg\")\n",
    "assert osp.exists(test_image_path)"
   ]
  },
  {
   "cell_type": "markdown",
   "id": "a2d21a34-ec9e-477b-9253-6eefc58fc4a4",
   "metadata": {},
   "source": [
    "Selecting a weights file to convert to onnx format (best, latest epoch, etc.)"
   ]
  },
  {
   "cell_type": "code",
   "execution_count": 11,
   "id": "ae96ad73-dabb-478c-a2d1-488f78b77761",
   "metadata": {},
   "outputs": [
    {
     "name": "stdout",
     "output_type": "stream",
     "text": [
      "select_model='/data/tmp/user/yolox_mmdet/test/model_pack/run-23-10-27-073148/model/latest.pth'\n"
     ]
    }
   ],
   "source": [
    "# Select model files\n",
    "model_path = tmp_outputs.model\n",
    "save_best  = False\n",
    "files = [osp.join(model_path, file) for file in os.listdir(model_path)]\n",
    "\n",
    "models_pth  = [file for file in files if '.pth' in file and not os.path.islink(file)]\n",
    "best_models = [file for file in models_pth if 'best' in file]\n",
    "latest_models = [file for file in models_pth if 'latest' in file]\n",
    "\n",
    "assert len(best_models), 'model have not pth files.'\n",
    "\n",
    "if save_best and len(best_models) > 0:\n",
    "    models_pth = best_models\n",
    "else:\n",
    "    models_pth = latest_models\n",
    "    \n",
    "models_pth.sort(key=lambda file: osp.getmtime(file))\n",
    "\n",
    "select_model = models_pth[-1]\n",
    "cfg_model = osp.join(CONFIG['work_dir'], \"last_cfg.py\")\n",
    "\n",
    "print(f\"{select_model=}\")"
   ]
  },
  {
   "cell_type": "code",
   "execution_count": 12,
   "id": "5ed5dd28-4335-4d6b-bd75-399becaa649a",
   "metadata": {},
   "outputs": [],
   "source": [
    "CONFIG['config_model'] = cfg_model\n",
    "CONFIG['torch_model'] = select_model\n",
    "CONFIG['test_image_path'] = test_image_path"
   ]
  },
  {
   "cell_type": "code",
   "execution_count": 13,
   "id": "647fe36e-bea6-4cda-9520-b06fc2a5fdd7",
   "metadata": {},
   "outputs": [],
   "source": [
    "with open(config_fn, 'w') as f_id:\n",
    "    json.dump(CONFIG, f_id, indent=4)"
   ]
  },
  {
   "cell_type": "markdown",
   "id": "d53b16e9-35a5-4a58-99be-7fe3c7ae448d",
   "metadata": {},
   "source": [
    "## Pack binary  model to bentoservice"
   ]
  },
  {
   "cell_type": "code",
   "execution_count": 14,
   "id": "8ee2a5e4-577f-446e-b812-56bfd9e68a4b",
   "metadata": {},
   "outputs": [],
   "source": [
    "from sinara.bentoml import save_bentoservice, load_bentoservice"
   ]
  },
  {
   "cell_type": "code",
   "execution_count": 15,
   "id": "6cec01c4-b15f-4fdf-b962-0085c1013e4b",
   "metadata": {},
   "outputs": [
    {
     "name": "stdout",
     "output_type": "stream",
     "text": [
      "[2023-10-27 07:31:55,337] INFO - Detected zipimporter <zipimporter object \"/usr/local/spark/python/lib/py4j-src.zip/\">\n",
      "[2023-10-27 07:31:55,362] WARNING - Python 3.9.10 found in current environment is not officially supported by BentoML. The docker base image used is'bentoml/model-server:0.13.2' which will use conda to install Python 3.9.10 in the build process. Supported Python versions are: f3.6, 3.7, 3.8\n"
     ]
    },
    {
     "data": {
      "text/plain": [
       "<bento_service.Model_YOLOX_Pack at 0x7f583004b5e0>"
      ]
     },
     "execution_count": 15,
     "metadata": {},
     "output_type": "execute_result"
    }
   ],
   "source": [
    "from bento_service import Model_YOLOX_Pack\n",
    "    \n",
    "# initialize bento service\n",
    "model_service = Model_YOLOX_Pack()\n",
    "model_service.pack('model_name', MODEL_NAME)\n",
    "serv_v = f\"{outputs.fullname('bento_service')}.{substep.run_id}\"\n",
    "model_service.pack('service_version', serv_v)\n",
    "model_service.pack('model', CONFIG['torch_model'])\n",
    "model_service.pack('config', CONFIG['config_model'])\n",
    "model_service.pack('test_image', test_image_path)"
   ]
  },
  {
   "cell_type": "code",
   "execution_count": 17,
   "id": "4b9fe07f-fcd5-4d03-886b-dbdf4b60db64",
   "metadata": {},
   "outputs": [
    {
     "ename": "TypeError",
     "evalue": "a bytes-like object is required, not 'str'",
     "output_type": "error",
     "traceback": [
      "\u001b[0;31m---------------------------------------------------------------------------\u001b[0m",
      "\u001b[0;31mTypeError\u001b[0m                                 Traceback (most recent call last)",
      "Cell \u001b[0;32mIn[17], line 2\u001b[0m\n\u001b[1;32m      1\u001b[0m \u001b[38;5;66;03m# save model as a bento pack\u001b[39;00m\n\u001b[0;32m----> 2\u001b[0m \u001b[43msave_bentoservice\u001b[49m\u001b[43m(\u001b[49m\u001b[43mmodel_service\u001b[49m\u001b[43m,\u001b[49m\u001b[43m \u001b[49m\u001b[43mpath\u001b[49m\u001b[38;5;241;43m=\u001b[39;49m\u001b[43moutputs\u001b[49m\u001b[38;5;241;43m.\u001b[39;49m\u001b[43mbento_service\u001b[49m\u001b[43m,\u001b[49m\u001b[43m \u001b[49m\u001b[43mservice_version\u001b[49m\u001b[38;5;241;43m=\u001b[39;49m\u001b[43mserv_v\u001b[49m\u001b[43m)\u001b[49m\n",
      "File \u001b[0;32m~/work/yolox_mmdet/3_model_pack/sinara/bentoml.py:59\u001b[0m, in \u001b[0;36msave_bentoservice\u001b[0;34m(bentoservice, path, service_version)\u001b[0m\n\u001b[1;32m     56\u001b[0m os\u001b[38;5;241m.\u001b[39mmakedirs(bentoservice_dir, exist_ok\u001b[38;5;241m=\u001b[39m\u001b[38;5;28;01mTrue\u001b[39;00m)\n\u001b[1;32m     58\u001b[0m bentoservice\u001b[38;5;241m.\u001b[39mset_version(service_version)\n\u001b[0;32m---> 59\u001b[0m \u001b[43mbentoservice\u001b[49m\u001b[38;5;241;43m.\u001b[39;49m\u001b[43msave_to_dir\u001b[49m\u001b[43m(\u001b[49m\u001b[43mbentoservice_dir\u001b[49m\u001b[43m)\u001b[49m\n\u001b[1;32m     61\u001b[0m SERVICE_VERSION_TEXT \u001b[38;5;241m=\u001b[39m \u001b[38;5;124m'''\u001b[39m\n\u001b[1;32m     62\u001b[0m \u001b[38;5;124m@bentoml.api()\u001b[39m\n\u001b[1;32m     63\u001b[0m \u001b[38;5;124mdef service_version(self):\u001b[39m\n\u001b[1;32m     64\u001b[0m \u001b[38;5;124m    return self.version\u001b[39m\n\u001b[1;32m     65\u001b[0m \u001b[38;5;124m\u001b[39m\u001b[38;5;124m'''\u001b[39m\n\u001b[1;32m     66\u001b[0m \u001b[38;5;28;01mif\u001b[39;00m \u001b[38;5;129;01mnot\u001b[39;00m \u001b[38;5;28mhasattr\u001b[39m(bentoservice, \u001b[38;5;124m'\u001b[39m\u001b[38;5;124mservice_version\u001b[39m\u001b[38;5;124m'\u001b[39m):\n",
      "File \u001b[0;32m/opt/conda/lib/python3.9/site-packages/bentoml/service/__init__.py:759\u001b[0m, in \u001b[0;36mBentoService.save_to_dir\u001b[0;34m(self, path, version)\u001b[0m\n\u001b[1;32m    751\u001b[0m \u001b[38;5;28;01mdef\u001b[39;00m \u001b[38;5;21msave_to_dir\u001b[39m(\u001b[38;5;28mself\u001b[39m, path, version\u001b[38;5;241m=\u001b[39m\u001b[38;5;28;01mNone\u001b[39;00m):\n\u001b[1;32m    752\u001b[0m \u001b[38;5;250m    \u001b[39m\u001b[38;5;124;03m\"\"\"Save this BentoService along with all its artifacts, source code and\u001b[39;00m\n\u001b[1;32m    753\u001b[0m \u001b[38;5;124;03m    dependencies to target file path, assuming path exist and empty. If target path\u001b[39;00m\n\u001b[1;32m    754\u001b[0m \u001b[38;5;124;03m    is not empty, this call may override existing files in the given path.\u001b[39;00m\n\u001b[0;32m   (...)\u001b[0m\n\u001b[1;32m    757\u001b[0m \u001b[38;5;124;03m    :param version: optional - save with version override\u001b[39;00m\n\u001b[1;32m    758\u001b[0m \u001b[38;5;124;03m    \"\"\"\u001b[39;00m\n\u001b[0;32m--> 759\u001b[0m     \u001b[38;5;28;01mreturn\u001b[39;00m \u001b[43msave_to_dir\u001b[49m\u001b[43m(\u001b[49m\u001b[38;5;28;43mself\u001b[39;49m\u001b[43m,\u001b[49m\u001b[43m \u001b[49m\u001b[43mpath\u001b[49m\u001b[43m,\u001b[49m\u001b[43m \u001b[49m\u001b[43mversion\u001b[49m\u001b[43m)\u001b[49m\n",
      "File \u001b[0;32m/opt/conda/lib/python3.9/site-packages/bentoml/saved_bundle/bundler.py:253\u001b[0m, in \u001b[0;36msave_to_dir\u001b[0;34m(bento_service, path, version, silent)\u001b[0m\n\u001b[1;32m    251\u001b[0m             _upload_file_to_remote_path(path, tarfile_path, tarfile_name)\n\u001b[1;32m    252\u001b[0m \u001b[38;5;28;01melse\u001b[39;00m:\n\u001b[0;32m--> 253\u001b[0m     \u001b[43m_write_bento_content_to_dir\u001b[49m\u001b[43m(\u001b[49m\u001b[43mbento_service\u001b[49m\u001b[43m,\u001b[49m\u001b[43m \u001b[49m\u001b[43mpath\u001b[49m\u001b[43m)\u001b[49m\n\u001b[1;32m    255\u001b[0m \u001b[38;5;28;01mif\u001b[39;00m \u001b[38;5;129;01mnot\u001b[39;00m silent:\n\u001b[1;32m    256\u001b[0m     logger\u001b[38;5;241m.\u001b[39minfo(\n\u001b[1;32m    257\u001b[0m         \u001b[38;5;124m\"\u001b[39m\u001b[38;5;124mBentoService bundle \u001b[39m\u001b[38;5;124m'\u001b[39m\u001b[38;5;132;01m%s\u001b[39;00m\u001b[38;5;124m:\u001b[39m\u001b[38;5;132;01m%s\u001b[39;00m\u001b[38;5;124m'\u001b[39m\u001b[38;5;124m created at: \u001b[39m\u001b[38;5;132;01m%s\u001b[39;00m\u001b[38;5;124m\"\u001b[39m,\n\u001b[1;32m    258\u001b[0m         bento_service\u001b[38;5;241m.\u001b[39mname,\n\u001b[1;32m    259\u001b[0m         bento_service\u001b[38;5;241m.\u001b[39mversion,\n\u001b[1;32m    260\u001b[0m         path,\n\u001b[1;32m    261\u001b[0m     )\n",
      "File \u001b[0;32m/opt/conda/lib/python3.9/site-packages/bentoml/saved_bundle/bundler.py:96\u001b[0m, in \u001b[0;36m_write_bento_content_to_dir\u001b[0;34m(bento_service, path)\u001b[0m\n\u001b[1;32m     93\u001b[0m     f\u001b[38;5;241m.\u001b[39mwrite(saved_bundle_readme)\n\u001b[1;32m     95\u001b[0m \u001b[38;5;66;03m# save all model artifacts to 'base_path/name/artifacts/' directory\u001b[39;00m\n\u001b[0;32m---> 96\u001b[0m \u001b[43mbento_service\u001b[49m\u001b[38;5;241;43m.\u001b[39;49m\u001b[43martifacts\u001b[49m\u001b[38;5;241;43m.\u001b[39;49m\u001b[43msave\u001b[49m\u001b[43m(\u001b[49m\u001b[43mmodule_base_path\u001b[49m\u001b[43m)\u001b[49m\n\u001b[1;32m     98\u001b[0m \u001b[38;5;66;03m# write conda environment, requirement.txt\u001b[39;00m\n\u001b[1;32m     99\u001b[0m bento_service\u001b[38;5;241m.\u001b[39menv\u001b[38;5;241m.\u001b[39minfer_pip_packages(bento_service)\n",
      "File \u001b[0;32m/opt/conda/lib/python3.9/site-packages/bentoml/service/artifacts/__init__.py:263\u001b[0m, in \u001b[0;36mArtifactCollection.save\u001b[0;34m(self, dst)\u001b[0m\n\u001b[1;32m    261\u001b[0m \u001b[38;5;28;01mfor\u001b[39;00m artifact \u001b[38;5;129;01min\u001b[39;00m \u001b[38;5;28mself\u001b[39m\u001b[38;5;241m.\u001b[39mget_artifact_list():\n\u001b[1;32m    262\u001b[0m     \u001b[38;5;28;01mif\u001b[39;00m artifact\u001b[38;5;241m.\u001b[39mis_ready:\n\u001b[0;32m--> 263\u001b[0m         \u001b[43martifact\u001b[49m\u001b[38;5;241;43m.\u001b[39;49m\u001b[43msave\u001b[49m\u001b[43m(\u001b[49m\u001b[43msave_path\u001b[49m\u001b[43m)\u001b[49m\n\u001b[1;32m    264\u001b[0m     \u001b[38;5;28;01melse\u001b[39;00m:\n\u001b[1;32m    265\u001b[0m         logger\u001b[38;5;241m.\u001b[39mwarning(\n\u001b[1;32m    266\u001b[0m             \u001b[38;5;124m\"\u001b[39m\u001b[38;5;124mSkip saving empty artifact, \u001b[39m\u001b[38;5;132;01m%s\u001b[39;00m\u001b[38;5;124m(\u001b[39m\u001b[38;5;124m'\u001b[39m\u001b[38;5;132;01m%s\u001b[39;00m\u001b[38;5;124m'\u001b[39m\u001b[38;5;124m)\u001b[39m\u001b[38;5;124m\"\u001b[39m,\n\u001b[1;32m    267\u001b[0m             artifact\u001b[38;5;241m.\u001b[39m\u001b[38;5;18m__class__\u001b[39m\u001b[38;5;241m.\u001b[39m\u001b[38;5;18m__name__\u001b[39m,\n\u001b[1;32m    268\u001b[0m             artifact\u001b[38;5;241m.\u001b[39mname,\n\u001b[1;32m    269\u001b[0m         )\n",
      "File \u001b[0;32m/opt/conda/lib/python3.9/site-packages/bentoml/service/artifacts/__init__.py:198\u001b[0m, in \u001b[0;36mBentoServiceArtifact.__getattribute__.<locals>.wrapped_save\u001b[0;34m(*args, **kwargs)\u001b[0m\n\u001b[1;32m    195\u001b[0m     yaml\u001b[38;5;241m.\u001b[39mdump(\u001b[38;5;28mself\u001b[39m\u001b[38;5;241m.\u001b[39mmetadata, Path(\u001b[38;5;28mself\u001b[39m\u001b[38;5;241m.\u001b[39m_metadata_path(dst)))\n\u001b[1;32m    197\u001b[0m original \u001b[38;5;241m=\u001b[39m \u001b[38;5;28mobject\u001b[39m\u001b[38;5;241m.\u001b[39m\u001b[38;5;21m__getattribute__\u001b[39m(\u001b[38;5;28mself\u001b[39m, item)\n\u001b[0;32m--> 198\u001b[0m \u001b[38;5;28;01mreturn\u001b[39;00m \u001b[43moriginal\u001b[49m\u001b[43m(\u001b[49m\u001b[38;5;241;43m*\u001b[39;49m\u001b[43margs\u001b[49m\u001b[43m,\u001b[49m\u001b[43m \u001b[49m\u001b[38;5;241;43m*\u001b[39;49m\u001b[38;5;241;43m*\u001b[39;49m\u001b[43mkwargs\u001b[49m\u001b[43m)\u001b[49m\n",
      "File \u001b[0;32m~/work/yolox_mmdet/3_model_pack/sinara/bentoml_artifacts/binary_artifact.py:49\u001b[0m, in \u001b[0;36mBinaryFileArtifact.save\u001b[0;34m(self, dst)\u001b[0m\n\u001b[1;32m     47\u001b[0m \u001b[38;5;28;01mdef\u001b[39;00m \u001b[38;5;21msave\u001b[39m(\u001b[38;5;28mself\u001b[39m, dst):\n\u001b[1;32m     48\u001b[0m     \u001b[38;5;28;01mwith\u001b[39;00m \u001b[38;5;28mopen\u001b[39m(\u001b[38;5;28mself\u001b[39m\u001b[38;5;241m.\u001b[39m_binary_file_path(dst), \u001b[38;5;124m'\u001b[39m\u001b[38;5;124mwb\u001b[39m\u001b[38;5;124m'\u001b[39m) \u001b[38;5;28;01mas\u001b[39;00m f:\n\u001b[0;32m---> 49\u001b[0m         \u001b[43mf\u001b[49m\u001b[38;5;241;43m.\u001b[39;49m\u001b[43mwrite\u001b[49m\u001b[43m(\u001b[49m\u001b[38;5;28;43mself\u001b[39;49m\u001b[38;5;241;43m.\u001b[39;49m\u001b[43m_content\u001b[49m\u001b[43m)\u001b[49m\n",
      "\u001b[0;31mTypeError\u001b[0m: a bytes-like object is required, not 'str'"
     ]
    }
   ],
   "source": [
    "# save model as a bento pack\n",
    "save_bentoservice(model_service, path=outputs.bento_service, service_version=serv_v)"
   ]
  },
  {
   "cell_type": "code",
   "execution_count": null,
   "id": "745f8c86-146a-4807-b988-30fcea2b5d69",
   "metadata": {},
   "outputs": [],
   "source": [
    "#stop spark\n",
    "SinaraSpark.stop_session()"
   ]
  }
 ],
 "metadata": {
  "kernelspec": {
   "display_name": "cv",
   "language": "python",
   "name": "cv"
  },
  "language_info": {
   "codemirror_mode": {
    "name": "ipython",
    "version": 3
   },
   "file_extension": ".py",
   "mimetype": "text/x-python",
   "name": "python",
   "nbconvert_exporter": "python",
   "pygments_lexer": "ipython3",
   "version": "3.9.10"
  }
 },
 "nbformat": 4,
 "nbformat_minor": 5
}
